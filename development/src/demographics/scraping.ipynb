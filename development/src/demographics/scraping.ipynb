{
 "cells": [
  {
   "cell_type": "markdown",
   "metadata": {},
   "source": [
    "# Scraping"
   ]
  },
  {
   "cell_type": "code",
   "execution_count": 1,
   "metadata": {},
   "outputs": [],
   "source": [
    "# import libraries\n",
    "\n",
    "import json\n",
    "import csv\n",
    "import time\n",
    "\n",
    "from selenium import webdriver\n",
    "from selenium.webdriver.common.by import By\n",
    "from selenium.webdriver.support.ui import WebDriverWait\n",
    "from selenium.webdriver.support import expected_conditions as EC\n",
    "from selenium.common.exceptions import NoSuchElementException"
   ]
  },
  {
   "cell_type": "code",
   "execution_count": 3,
   "metadata": {},
   "outputs": [],
   "source": [
    "# set up files for regional indicators\n",
    "\n",
    "data_folder = '../../data/demographics'\n",
    "\n",
    "with open(f\"{data_folder}/indicadores.json\", 'r') as file:\n",
    "    indicators = json.load(file)\n",
    "\n",
    "for indicator, factors in indicators.items():\n",
    "    with open(f\"{data_folder}/raw/{indicator}.csv\", mode='w', newline='', encoding='utf-8') as file:\n",
    "        writer = csv.writer(file)\n",
    "        writer.writerow(['município'] + factors)   "
   ]
  },
  {
   "cell_type": "code",
   "execution_count": null,
   "metadata": {},
   "outputs": [],
   "source": [
    "def enter_country(driver : webdriver.Chrome):\n",
    "    '''\n",
    "    Navigates in the home page\n",
    "    '''\n",
    "    WebDriverWait(driver, 10).until(\n",
    "        EC.visibility_of_element_located((By.ID, 'search-txt'))\n",
    "    )\n",
    "    search_input = driver.find_element(By.ID, 'search-txt')\n",
    "    search_input.click()\n",
    "    WebDriverWait(driver, 10).until(\n",
    "        EC.visibility_of_element_located((By.ID, 'resultados'))\n",
    "    )\n",
    "    first_result = driver.find_element(By.CSS_SELECTOR, '#resultados li:first-child')\n",
    "    first_result.click()\n",
    "    time.sleep(3)"
   ]
  },
  {
   "cell_type": "code",
   "execution_count": null,
   "metadata": {},
   "outputs": [],
   "source": [
    "def enter_indicators(driver : webdriver.Chrome):\n",
    "    '''\n",
    "    Navigates in the indicators page\n",
    "    '''\n",
    "    WebDriverWait(driver, 30).until(\n",
    "        EC.visibility_of_element_located((By.CLASS_NAME, 'ams-narrow-menu'))\n",
    "    )\n",
    "    first_narrow_menu_a = driver.find_element(By.CSS_SELECTOR, '.ams-narrow-menu li:first-child a')\n",
    "    WebDriverWait(driver, 10).until(\n",
    "        EC.element_to_be_clickable(first_narrow_menu_a)\n",
    "    )\n",
    "    driver.execute_script(\"arguments[0].click();\", first_narrow_menu_a)\n",
    "    time.sleep(3)"
   ]
  },
  {
   "cell_type": "code",
   "execution_count": null,
   "metadata": {},
   "outputs": [],
   "source": [
    "def get_municipality_indicators(driver : webdriver.Chrome, municipality : str):\n",
    "    '''\n",
    "    Fetches and stores the indicator values for a municipality\n",
    "    '''\n",
    "    for indicator, factors in indicators.items():\n",
    "        element = 'a[data-indicador=\"' + indicator + '\"]'\n",
    "        link = WebDriverWait(driver, 10).until(\n",
    "            EC.element_to_be_clickable((By.CSS_SELECTOR, element))\n",
    "        )\n",
    "        link.click()\n",
    "        row = [municipality]\n",
    "        for factor in factors:\n",
    "            time.sleep(0.05)\n",
    "            try:\n",
    "                grafico_div = driver.find_element(By.CSS_SELECTOR, 'div.' + factor)\n",
    "                data_munrede_value = grafico_div.get_attribute('data-munrede')\n",
    "                row.append(data_munrede_value)\n",
    "            except NoSuchElementException:\n",
    "                row.append(None)\n",
    "        with open(f\"{data_folder}/raw/{indicator}.csv\", mode='a', newline='', encoding='utf-8') as file:\n",
    "            writer = csv.writer(file)\n",
    "            writer.writerow(row)"
   ]
  },
  {
   "cell_type": "code",
   "execution_count": null,
   "metadata": {},
   "outputs": [],
   "source": [
    "def enter_municipality(driver : webdriver.Chrome, index : int) -> bool:\n",
    "    '''\n",
    "    Selects a municipality in the indicators page\n",
    "    '''\n",
    "    dropdown_item = driver.find_element(By.CSS_SELECTOR, f'ul.dropdown-menu li:nth-child({index})')\n",
    "    a_element = dropdown_item.find_element(By.TAG_NAME, 'a') if dropdown_item.find_elements(By.TAG_NAME, 'a') else None\n",
    "    if a_element:\n",
    "        last_span = a_element.find_elements(By.TAG_NAME, 'span')[-1]\n",
    "        municipality = last_span.text\n",
    "        dropdown_item.click()\n",
    "        time.sleep(5)\n",
    "        get_municipality_indicators(driver, municipality)\n",
    "        return True\n",
    "    return False"
   ]
  },
  {
   "cell_type": "code",
   "execution_count": null,
   "metadata": {},
   "outputs": [],
   "source": [
    "def traverse_municipalities(driver : webdriver.Chrome):\n",
    "    '''\n",
    "    Iterates through every municipality in the indicators page\n",
    "    '''\n",
    "    municipalities = WebDriverWait(driver, 10).until(\n",
    "        EC.element_to_be_clickable((By.CSS_SELECTOR, 'div.dropdown'))\n",
    "    )\n",
    "    municipalities.click()\n",
    "    hidden_dropdown = False\n",
    "    item_count = len(driver.find_elements(By.CSS_SELECTOR, 'ul.dropdown-menu li'))\n",
    "    for index in range(item_count):\n",
    "        if hidden_dropdown == True:\n",
    "            municipalities = WebDriverWait(driver, 10).until(\n",
    "                EC.element_to_be_clickable((By.CSS_SELECTOR, 'div.dropdown'))\n",
    "            )\n",
    "            municipalities.click()\n",
    "        hidden_dropdown = enter_municipality(driver, index + 1)"
   ]
  },
  {
   "cell_type": "code",
   "execution_count": null,
   "metadata": {},
   "outputs": [],
   "source": [
    "# web scraping\n",
    "\n",
    "driver = webdriver.Chrome()\n",
    "\n",
    "url = 'https://www.atlasmunicipiossaudaveis.pt/'\n",
    "driver.get(url)\n",
    "\n",
    "enter_country(driver)\n",
    "enter_indicators(driver)\n",
    "traverse_municipalities(driver)\n",
    "\n",
    "time.sleep(3)\n",
    "\n",
    "driver.quit()"
   ]
  }
 ],
 "metadata": {
  "kernelspec": {
   "display_name": "venv",
   "language": "python",
   "name": "python3"
  },
  "language_info": {
   "codemirror_mode": {
    "name": "ipython",
    "version": 3
   },
   "file_extension": ".py",
   "mimetype": "text/x-python",
   "name": "python",
   "nbconvert_exporter": "python",
   "pygments_lexer": "ipython3",
   "version": "3.12.7"
  }
 },
 "nbformat": 4,
 "nbformat_minor": 2
}
