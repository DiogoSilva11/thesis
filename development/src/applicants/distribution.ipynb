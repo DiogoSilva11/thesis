{
 "cells": [
  {
   "cell_type": "markdown",
   "metadata": {},
   "source": [
    "# Distribution"
   ]
  },
  {
   "cell_type": "code",
   "execution_count": 1,
   "metadata": {},
   "outputs": [],
   "source": [
    "# import libraries\n",
    "\n",
    "import json\n",
    "import random\n",
    "\n",
    "import pandas as pd"
   ]
  },
  {
   "cell_type": "markdown",
   "metadata": {},
   "source": [
    "### Health records"
   ]
  },
  {
   "cell_type": "code",
   "execution_count": 2,
   "metadata": {},
   "outputs": [],
   "source": [
    "# load gender and age data\n",
    "\n",
    "data_folder = '../../data/demographics'\n",
    "\n",
    "with open(f\"{data_folder}/population/country.json\", 'r') as file:\n",
    "    country = json.load(file)\n",
    "\n",
    "with open(f\"{data_folder}/population/life_insurance.json\", 'r') as file:\n",
    "    life_insurance = json.load(file)"
   ]
  },
  {
   "cell_type": "code",
   "execution_count": 3,
   "metadata": {},
   "outputs": [],
   "source": [
    "# load electronic health records data\n",
    "\n",
    "data_folder = '../../data/health_records'\n",
    "\n",
    "patients = pd.read_csv(f\"{data_folder}/patients.csv\")"
   ]
  },
  {
   "cell_type": "code",
   "execution_count": 4,
   "metadata": {},
   "outputs": [
    {
     "name": "stdout",
     "output_type": "stream",
     "text": [
      "Percentage of males: 0.478\n",
      "Percentage of females: 0.522\n"
     ]
    }
   ],
   "source": [
    "# gender distribution in population\n",
    "\n",
    "total_population = country['total']\n",
    "male_percentage = round(country['males'] / total_population, 3)\n",
    "female_percentage = round(country['females'] / total_population, 3)\n",
    "\n",
    "print(f\"Percentage of males: {male_percentage}\")\n",
    "print(f\"Percentage of females: {female_percentage}\")"
   ]
  },
  {
   "cell_type": "code",
   "execution_count": 5,
   "metadata": {},
   "outputs": [
    {
     "data": {
      "text/plain": [
       "[(15, 19, 0.062),\n",
       " (20, 24, 0.067),\n",
       " (25, 29, 0.067),\n",
       " (30, 34, 0.07),\n",
       " (35, 39, 0.073),\n",
       " (40, 44, 0.085),\n",
       " (45, 49, 0.096),\n",
       " (50, 54, 0.092),\n",
       " (55, 59, 0.088),\n",
       " (60, 64, 0.086),\n",
       " (65, 69, 0.08),\n",
       " (70, 74, 0.073),\n",
       " (75, 79, 0.061)]"
      ]
     },
     "execution_count": 5,
     "metadata": {},
     "output_type": "execute_result"
    }
   ],
   "source": [
    "# age distribution in population\n",
    "\n",
    "age_groups = country['age_groups']\n",
    "population_values = [group['value'] for group in age_groups]\n",
    "total_population = sum(population_values)\n",
    "\n",
    "age_percentages = []\n",
    "for i in range(len(age_groups)):\n",
    "    group = age_groups[i]\n",
    "    population = population_values[i]\n",
    "    percentage = round(population / total_population, 3)\n",
    "    age_percentages.append((group['from'], group['to'], percentage))\n",
    "\n",
    "age_percentages"
   ]
  },
  {
   "cell_type": "code",
   "execution_count": 6,
   "metadata": {},
   "outputs": [
    {
     "data": {
      "text/plain": [
       "[(15, 34, 0.046), (35, 54, 0.571), (55, 79, 0.383)]"
      ]
     },
     "execution_count": 6,
     "metadata": {},
     "output_type": "execute_result"
    }
   ],
   "source": [
    "# age distribution in life insurance policyholders\n",
    "\n",
    "life_percentages = [\n",
    "    (life_insurance['youth']['from'], life_insurance['youth']['to'], life_insurance['youth']['percentage']),\n",
    "    (life_insurance['adults']['from'], life_insurance['adults']['to'], life_insurance['adults']['percentage']),\n",
    "    (life_insurance['seniors']['from'], life_insurance['seniors']['to'], life_insurance['seniors']['percentage']),\n",
    "]\n",
    "\n",
    "life_percentages"
   ]
  },
  {
   "cell_type": "code",
   "execution_count": 7,
   "metadata": {},
   "outputs": [
    {
     "data": {
      "text/plain": [
       "[(15, 19, 0.011),\n",
       " (20, 24, 0.012),\n",
       " (25, 29, 0.012),\n",
       " (30, 34, 0.012),\n",
       " (35, 39, 0.12),\n",
       " (40, 44, 0.14),\n",
       " (45, 49, 0.158),\n",
       " (50, 54, 0.152),\n",
       " (55, 59, 0.087),\n",
       " (60, 64, 0.085),\n",
       " (65, 69, 0.079),\n",
       " (70, 74, 0.072),\n",
       " (75, 79, 0.06)]"
      ]
     },
     "execution_count": 7,
     "metadata": {},
     "output_type": "execute_result"
    }
   ],
   "source": [
    "# target age percentages - for each life insurance group, break down by population age groups\n",
    "\n",
    "target_percentages = []\n",
    "\n",
    "for policy_group in life_percentages:\n",
    "    policy_from, policy_to, policy_percentage = policy_group\n",
    "    sub_population_groups = []\n",
    "    total_population_percentage = 0\n",
    "\n",
    "    for pop_group in age_percentages:\n",
    "        pop_from, pop_to, pop_percentage = pop_group\n",
    "        if pop_to >= policy_from and pop_from <= policy_to:\n",
    "            sub_population_groups.append((pop_from, pop_to, pop_percentage))\n",
    "            total_population_percentage += pop_percentage\n",
    "            \n",
    "    for pop_from, pop_to, pop_percentage in sub_population_groups:\n",
    "        weighted_percentage = round((pop_percentage / total_population_percentage) * policy_percentage, 3)\n",
    "        target_percentages.append((pop_from, pop_to, weighted_percentage))\n",
    "\n",
    "target_percentages"
   ]
  },
  {
   "cell_type": "code",
   "execution_count": 8,
   "metadata": {},
   "outputs": [
    {
     "name": "stdout",
     "output_type": "stream",
     "text": [
      "Total count: 889\n"
     ]
    },
    {
     "data": {
      "text/plain": [
       "[{'from': 15, 'to': 19, 'count': 70, 'M': 39, 'F': 31},\n",
       " {'from': 20, 'to': 24, 'count': 71, 'M': 26, 'F': 45},\n",
       " {'from': 25, 'to': 29, 'count': 73, 'M': 38, 'F': 35},\n",
       " {'from': 30, 'to': 34, 'count': 77, 'M': 38, 'F': 39},\n",
       " {'from': 35, 'to': 39, 'count': 71, 'M': 35, 'F': 36},\n",
       " {'from': 40, 'to': 44, 'count': 60, 'M': 30, 'F': 30},\n",
       " {'from': 45, 'to': 49, 'count': 73, 'M': 38, 'F': 35},\n",
       " {'from': 50, 'to': 54, 'count': 77, 'M': 29, 'F': 48},\n",
       " {'from': 55, 'to': 59, 'count': 75, 'M': 29, 'F': 46},\n",
       " {'from': 60, 'to': 64, 'count': 68, 'M': 26, 'F': 42},\n",
       " {'from': 65, 'to': 69, 'count': 67, 'M': 32, 'F': 35},\n",
       " {'from': 70, 'to': 74, 'count': 64, 'M': 33, 'F': 31},\n",
       " {'from': 75, 'to': 79, 'count': 43, 'M': 22, 'F': 21}]"
      ]
     },
     "execution_count": 8,
     "metadata": {},
     "output_type": "execute_result"
    }
   ],
   "source": [
    "# count available records for each age group\n",
    "\n",
    "counts = []\n",
    "for age_group in age_groups:\n",
    "    counts.append({\n",
    "        'from': age_group['from'],\n",
    "        'to': age_group['to'],\n",
    "        'count': 0,\n",
    "        'M': 0,\n",
    "        'F': 0\n",
    "    })\n",
    "\n",
    "for patient in patients.itertuples():\n",
    "    age = 2023 - int(patient.BIRTHDATE.split('-')[0])\n",
    "    for item in counts:\n",
    "        if age >= item['from'] and age <= item['to']:\n",
    "            item['count'] += 1\n",
    "            item[patient.GENDER] += 1\n",
    "            break\n",
    "\n",
    "total_count = sum([item['count'] for item in counts])\n",
    "print(f\"Total count: {total_count}\")\n",
    "\n",
    "counts"
   ]
  },
  {
   "cell_type": "code",
   "execution_count": 9,
   "metadata": {},
   "outputs": [
    {
     "data": {
      "text/plain": [
       "[10, 11, 11, 11, 107, 124, 140, 135, 77, 76, 70, 64, 53]"
      ]
     },
     "execution_count": 9,
     "metadata": {},
     "output_type": "execute_result"
    }
   ],
   "source": [
    "# counts that would reflect the target percentages\n",
    "\n",
    "raw_counts = []\n",
    "for (_, _, percentage) in target_percentages:\n",
    "    raw_counts.append(percentage * total_count)\n",
    "targets = [int(x) for x in raw_counts]\n",
    "\n",
    "current_total = sum(targets)\n",
    "diff = total_count - current_total\n",
    "\n",
    "remainders = [(i, raw_counts[i] - targets[i]) for i in range(len(targets))]\n",
    "remainders.sort(key=lambda x: x[1], reverse=True)\n",
    "\n",
    "for i in range(diff):\n",
    "    targets[remainders[i][0]] += 1\n",
    "\n",
    "targets"
   ]
  },
  {
   "cell_type": "code",
   "execution_count": 10,
   "metadata": {},
   "outputs": [
    {
     "data": {
      "text/plain": [
       "[-6.0,\n",
       " -5.455,\n",
       " -5.636,\n",
       " -6.0,\n",
       " 0.336,\n",
       " 0.516,\n",
       " 0.479,\n",
       " 0.43,\n",
       " 0.026,\n",
       " 0.105,\n",
       " 0.043,\n",
       " 0.0,\n",
       " 0.189]"
      ]
     },
     "execution_count": 10,
     "metadata": {},
     "output_type": "execute_result"
    }
   ],
   "source": [
    "# all possible percentages to trim all counts proportionally\n",
    "\n",
    "trim_percentages = []\n",
    "\n",
    "for index, item in enumerate(counts):\n",
    "    target = targets[index]\n",
    "    trim = target - item['count']\n",
    "    trim_percentage = round(trim / target, 3)\n",
    "    trim_percentages.append(trim_percentage)\n",
    "\n",
    "trim_percentages"
   ]
  },
  {
   "cell_type": "code",
   "execution_count": 11,
   "metadata": {},
   "outputs": [],
   "source": [
    "def apply_trim(targets : list[int], trim_percentage : float) -> list[int]:\n",
    "    '''\n",
    "    Trims all target counts proportionally with a certain percentage\n",
    "    '''\n",
    "    trimmed = []\n",
    "    for target in targets:\n",
    "        trim = round(trim_percentage * target)\n",
    "        value = target - trim\n",
    "        trimmed.append(value)\n",
    "    return trimmed"
   ]
  },
  {
   "cell_type": "code",
   "execution_count": 12,
   "metadata": {},
   "outputs": [],
   "source": [
    "def valid_counts(trimmed : list[int], counts : list[int]) -> bool:\n",
    "    '''\n",
    "    Verifies if the trimmed counts are all equal or inferior to the real available counts\n",
    "    '''\n",
    "    for index, count in enumerate(trimmed):\n",
    "        available_count = counts[index]['count']\n",
    "        if count > available_count:\n",
    "            return False\n",
    "    return True"
   ]
  },
  {
   "cell_type": "code",
   "execution_count": 13,
   "metadata": {},
   "outputs": [
    {
     "name": "stdout",
     "output_type": "stream",
     "text": [
      "Initial total counts: 889\n",
      "Adjusted total counts: 430\n"
     ]
    },
    {
     "data": {
      "text/plain": [
       "[5, 5, 5, 5, 52, 60, 68, 65, 37, 37, 34, 31, 26]"
      ]
     },
     "execution_count": 13,
     "metadata": {},
     "output_type": "execute_result"
    }
   ],
   "source": [
    "# trim the real counts to match the target proportions with minimal total loss\n",
    "\n",
    "highest_total = 0\n",
    "adjusted_counts = None\n",
    "\n",
    "for trim_percentage in trim_percentages:\n",
    "    trimmed = apply_trim(targets, trim_percentage)\n",
    "    if valid_counts(trimmed, counts):\n",
    "        total = sum(trimmed)\n",
    "        if total > highest_total:\n",
    "            adjusted_counts = trimmed\n",
    "\n",
    "print(f\"Initial total counts: {total_count}\")\n",
    "total_adjusted_counts = sum(adjusted_counts)\n",
    "print(f\"Adjusted total counts: {total_adjusted_counts}\")\n",
    "\n",
    "adjusted_counts"
   ]
  },
  {
   "cell_type": "code",
   "execution_count": 14,
   "metadata": {},
   "outputs": [
    {
     "name": "stdout",
     "output_type": "stream",
     "text": [
      "Initial total counts: 889\n",
      "Adjusted total counts: 85\n"
     ]
    },
    {
     "data": {
      "text/plain": [
       "[1, 1, 1, 1, 10, 12, 14, 13, 7, 7, 7, 6, 5]"
      ]
     },
     "execution_count": 14,
     "metadata": {},
     "output_type": "execute_result"
    }
   ],
   "source": [
    "# optionally reduce the test dataset\n",
    "\n",
    "for index in range(len(adjusted_counts)):\n",
    "    adjusted_counts[index] = round(adjusted_counts[index] - 0.8 * adjusted_counts[index])\n",
    "\n",
    "print(f\"Initial total counts: {total_count}\")\n",
    "total_adjusted_counts = sum(adjusted_counts)\n",
    "print(f\"Adjusted total counts: {total_adjusted_counts}\")\n",
    "\n",
    "adjusted_counts"
   ]
  },
  {
   "cell_type": "code",
   "execution_count": 15,
   "metadata": {},
   "outputs": [
    {
     "name": "stdout",
     "output_type": "stream",
     "text": [
      "Real percentage of males: 0.478\n",
      "Achieved: 0.471\n",
      "\n",
      "Real percentage of females: 0.522\n",
      "Achieved: 0.529\n"
     ]
    }
   ],
   "source": [
    "# final counts that will be considered for realistic retrieval of records\n",
    "\n",
    "final_counts = [\n",
    "    {'from': 15, 'to': 19, 'count': 5, 'M': 1, 'F': 0},\n",
    "    {'from': 20, 'to': 24, 'count': 5, 'M': 0, 'F': 1},\n",
    "    {'from': 25, 'to': 29, 'count': 5, 'M': 1, 'F': 0},\n",
    "    {'from': 30, 'to': 34, 'count': 5, 'M': 0, 'F': 1},\n",
    "    {'from': 35, 'to': 39, 'count': 52, 'M': 5, 'F': 5},\n",
    "    {'from': 40, 'to': 44, 'count': 60, 'M': 6, 'F': 6},\n",
    "    {'from': 45, 'to': 49, 'count': 68, 'M': 7, 'F': 7},\n",
    "    {'from': 50, 'to': 54, 'count': 65, 'M': 6, 'F': 7},\n",
    "    {'from': 55, 'to': 59, 'count': 37, 'M': 3, 'F': 4},\n",
    "    {'from': 60, 'to': 64, 'count': 37, 'M': 3, 'F': 4},\n",
    "    {'from': 65, 'to': 69, 'count': 34, 'M': 3, 'F': 4},\n",
    "    {'from': 70, 'to': 74, 'count': 31, 'M': 3, 'F': 3},\n",
    "    {'from': 75, 'to': 79, 'count': 26, 'M': 2, 'F': 3}\n",
    "]\n",
    "\n",
    "final_male_percentage = round(sum([item['M'] for item in final_counts]) / total_adjusted_counts, 3)\n",
    "final_female_percentage = round(sum([item['F'] for item in final_counts]) / total_adjusted_counts, 3)\n",
    "\n",
    "print(f\"Real percentage of males: {male_percentage}\")\n",
    "print(f\"Achieved: {final_male_percentage}\\n\")\n",
    "\n",
    "print(f\"Real percentage of females: {female_percentage}\")\n",
    "print(f\"Achieved: {final_female_percentage}\")"
   ]
  },
  {
   "cell_type": "markdown",
   "metadata": {},
   "source": [
    "### Municipalities"
   ]
  },
  {
   "cell_type": "code",
   "execution_count": 16,
   "metadata": {},
   "outputs": [],
   "source": [
    "# load municipality population data\n",
    "\n",
    "data_folder = '../../data/demographics'\n",
    "\n",
    "with open(f\"{data_folder}/population/municipalities.json\", 'r', encoding='utf-8') as file:\n",
    "    municipalities = json.load(file)"
   ]
  },
  {
   "cell_type": "code",
   "execution_count": 17,
   "metadata": {},
   "outputs": [
    {
     "data": {
      "text/plain": [
       "{'Alfândega da Fé': 0.001,\n",
       " 'Amares': 0.005,\n",
       " 'Braga': 0.036,\n",
       " 'Bragança': 0.008,\n",
       " 'Gondomar': 0.041,\n",
       " 'Maia': 0.033,\n",
       " 'Matosinhos': 0.042,\n",
       " 'Monção': 0.004,\n",
       " 'Paredes': 0.021,\n",
       " 'Penafiel': 0.017,\n",
       " 'Porto': 0.056,\n",
       " 'Póvoa de Lanhoso': 0.005,\n",
       " 'Santo Tirso': 0.016,\n",
       " 'Valença': 0.003,\n",
       " 'Valongo': 0.006,\n",
       " 'Viana do Castelo': 0.021,\n",
       " 'Vila Nova de Famalicão': 0.01,\n",
       " 'Vila Pouca de Aguiar': 0.003,\n",
       " 'Vila Real': 0.004,\n",
       " 'Alenquer': 0.011,\n",
       " 'Coimbra': 0.026,\n",
       " 'Figueira da Foz': 0.015,\n",
       " 'Guarda': 0.006,\n",
       " 'Lourinhã': 0.006,\n",
       " 'Lousã': 0.004,\n",
       " 'Miranda do Corvo': 0.002,\n",
       " 'Pombal': 0.012,\n",
       " 'Soure': 0.004,\n",
       " 'Tábua': 0.003,\n",
       " 'Torres Vedras': 0.02,\n",
       " 'Alcochete': 0.005,\n",
       " 'Almada': 0.021,\n",
       " 'Amadora': 0.042,\n",
       " 'Barreiro': 0.019,\n",
       " 'Lisboa': 0.133,\n",
       " 'Loures': 0.049,\n",
       " 'Montijo': 0.014,\n",
       " 'Odivelas': 0.014,\n",
       " 'Oeiras': 0.042,\n",
       " 'Palmela': 0.005,\n",
       " 'Seixal': 0.041,\n",
       " 'Sesimbra': 0.013,\n",
       " 'Setúbal': 0.03,\n",
       " 'Vila Franca de Xira': 0.033,\n",
       " 'Almodôvar': 0.002,\n",
       " 'Alvito': 0.001,\n",
       " 'Avis': 0.001,\n",
       " 'Azambuja': 0.002,\n",
       " 'Barrancos': 0.0,\n",
       " 'Beja': 0.009,\n",
       " 'Chamusca': 0.002,\n",
       " 'Cuba': 0.001,\n",
       " 'Golegã': 0.001,\n",
       " 'Grândola': 0.002,\n",
       " 'Odemira': 0.007,\n",
       " 'Serpa': 0.001,\n",
       " 'Viana do Alentejo': 0.001,\n",
       " 'Vidigueira': 0.001,\n",
       " 'Castro Marim': 0.002,\n",
       " 'Lagoa': 0.006,\n",
       " 'Loulé': 0.017,\n",
       " 'Monchique': 0.001,\n",
       " 'Portimão': 0.011,\n",
       " 'Tavira': 0.003,\n",
       " 'Calheta (Açores)': 0.001,\n",
       " 'Lagoa (Açores)': 0.003,\n",
       " 'Ponta Delgada (Açores)': 0.016,\n",
       " 'Ribeira Grande (Açores)': 0.003,\n",
       " 'São Roque do Pico (Açores)': 0.001,\n",
       " 'Porto Santo (Madeira)': 0.001}"
      ]
     },
     "execution_count": 17,
     "metadata": {},
     "output_type": "execute_result"
    }
   ],
   "source": [
    "# probabilities for each municipality\n",
    "\n",
    "municipalities_population = sum(municipalities.values())\n",
    "\n",
    "municipality_probabilities = {}\n",
    "for name, population in municipalities.items():\n",
    "    municipality_probabilities[name] = round(population / municipalities_population, 3)\n",
    "\n",
    "municipality_probabilities"
   ]
  },
  {
   "cell_type": "markdown",
   "metadata": {},
   "source": [
    "### Occupations"
   ]
  },
  {
   "cell_type": "code",
   "execution_count": 18,
   "metadata": {},
   "outputs": [],
   "source": [
    "# load category population data\n",
    "\n",
    "data_folder = '../../data/demographics'\n",
    "\n",
    "with open(f\"{data_folder}/population/occupations.json\", 'r', encoding='utf-8') as file:\n",
    "    occupations = json.load(file)"
   ]
  },
  {
   "cell_type": "code",
   "execution_count": 19,
   "metadata": {},
   "outputs": [
    {
     "data": {
      "text/plain": [
       "{'armed forces occupations': 0.005,\n",
       " 'managers': 0.061,\n",
       " 'professionals': 0.182,\n",
       " 'technicians and associate professionals': 0.106,\n",
       " 'clerical support workers': 0.096,\n",
       " 'service and sales workers': 0.184,\n",
       " 'skilled agricultural, forestry and fishery workers': 0.022,\n",
       " 'craft and related trades workers': 0.136,\n",
       " 'plant and machine operators, and assemblers': 0.053}"
      ]
     },
     "execution_count": 19,
     "metadata": {},
     "output_type": "execute_result"
    }
   ],
   "source": [
    "# probabilities for each occupation category\n",
    "\n",
    "occupation_probabilities = {}\n",
    "for name, category in occupations.items():\n",
    "    if name == 'population':\n",
    "        continue\n",
    "    occupation_probabilities[name] = round(category['population'] / occupations['population'], 3)\n",
    "\n",
    "occupation_probabilities"
   ]
  },
  {
   "cell_type": "markdown",
   "metadata": {},
   "source": [
    "### Applicants"
   ]
  },
  {
   "cell_type": "code",
   "execution_count": 20,
   "metadata": {},
   "outputs": [],
   "source": [
    "def find_patient(applicants : dict, age_group : tuple[str], gender : str) -> bool:\n",
    "    '''\n",
    "    Finds a new pacient with a certain age and gender\n",
    "    '''\n",
    "    ids = applicants.keys()\n",
    "    for patient in patients.itertuples():\n",
    "        age = 2023 - int(patient.BIRTHDATE.split('-')[0])\n",
    "        if age_group[0] <= age and age_group[1] >= age and patient.GENDER == gender:\n",
    "            if patient.Id not in ids:\n",
    "                applicants[patient.Id] = {\n",
    "                    'age': age,\n",
    "                    'gender': 'male' if gender == 'M' else 'female'\n",
    "                }\n",
    "                return True\n",
    "    return False"
   ]
  },
  {
   "cell_type": "code",
   "execution_count": 21,
   "metadata": {},
   "outputs": [
    {
     "name": "stdout",
     "output_type": "stream",
     "text": [
      "85 patients assigned\n"
     ]
    }
   ],
   "source": [
    "# assign patients matching the intended distributions\n",
    "\n",
    "applicants = {}\n",
    "\n",
    "for item in final_counts:\n",
    "    age_group = (item['from'], item['to'])\n",
    "    males = item['M']\n",
    "    females = item['F']\n",
    "    for _ in range(males):\n",
    "        find_patient(applicants, age_group, 'M')\n",
    "    for _ in range(females):\n",
    "        find_patient(applicants, age_group, 'F')\n",
    "\n",
    "print(f\"{len(applicants)} patients assigned\")"
   ]
  },
  {
   "cell_type": "code",
   "execution_count": 22,
   "metadata": {},
   "outputs": [],
   "source": [
    "def assign_municipality() -> str:\n",
    "    '''\n",
    "    Selects a random municipality based on the respective probabilities\n",
    "    '''\n",
    "    municipality = random.choices(\n",
    "        population=list(municipality_probabilities.keys()),\n",
    "        weights=list(municipality_probabilities.values())\n",
    "    )[0]\n",
    "    return municipality"
   ]
  },
  {
   "cell_type": "code",
   "execution_count": 23,
   "metadata": {},
   "outputs": [],
   "source": [
    "def assign_occupation(age : int) -> tuple[str, int]:\n",
    "    '''\n",
    "    Selects a random occupation based on probabilities alongside the respective average daily steps\n",
    "    '''\n",
    "    if age >= 15 and age <= 19:\n",
    "        occupation = 'Student'\n",
    "        steps = random.randint(4000, 9000)\n",
    "    elif age >= 65 and age <= 79:\n",
    "        occupation = 'Retired'\n",
    "        steps = random.randint(2000, 5000)\n",
    "    else:\n",
    "        category = random.choices(\n",
    "            population=list(occupation_probabilities.keys()),\n",
    "            weights=list(occupation_probabilities.values())\n",
    "        )[0]\n",
    "        options = occupations[category]['steps']\n",
    "        occupation = random.choice(list(options.keys()))\n",
    "        steps = occupations[category]['steps'][occupation]\n",
    "        steps = random.randint(steps - 500, steps + 500)\n",
    "    return occupation, steps"
   ]
  },
  {
   "cell_type": "code",
   "execution_count": 24,
   "metadata": {},
   "outputs": [],
   "source": [
    "# load social media captions\n",
    "\n",
    "data_folder = '../../data/social_media'\n",
    "\n",
    "with open(f\"{data_folder}/processed_captions.json\", 'r', encoding='utf-8') as file:\n",
    "    captions = json.load(file)"
   ]
  },
  {
   "cell_type": "code",
   "execution_count": 25,
   "metadata": {},
   "outputs": [],
   "source": [
    "def gender_mentioned(tokens : str) -> str | None:\n",
    "    '''\n",
    "    Checks for gender terms in the caption\n",
    "    '''\n",
    "    men_or_man = ('men' in tokens or 'man' in tokens)\n",
    "    women_or_woman = ('women' in tokens or 'woman' in tokens)\n",
    "    if men_or_man and not women_or_woman:\n",
    "        return 'male'\n",
    "    elif women_or_woman and not men_or_man:\n",
    "        return 'female'\n",
    "    else:\n",
    "        return 'other'"
   ]
  },
  {
   "cell_type": "code",
   "execution_count": 26,
   "metadata": {},
   "outputs": [],
   "source": [
    "def assign_social_media_posts(gender : str) -> list[str]:\n",
    "    '''\n",
    "    Randomly selects pre-generated descriptions of social media posts\n",
    "    '''\n",
    "    posts = []\n",
    "    num_posts = random.randint(1, 15)\n",
    "    while len(posts) < num_posts:\n",
    "        caption = random.choice(captions)\n",
    "        tokens = caption.lower().split()\n",
    "        category = gender_mentioned(tokens)\n",
    "        if category == gender or category == 'other':\n",
    "            posts.append(caption)\n",
    "    return posts"
   ]
  },
  {
   "cell_type": "code",
   "execution_count": 27,
   "metadata": {},
   "outputs": [],
   "source": [
    "# assign additional data to each applicant\n",
    "\n",
    "for applicant in applicants.values():\n",
    "    applicant['municipality'] = assign_municipality()\n",
    "    applicant['occupation'], applicant['steps'] = assign_occupation(applicant['age'])\n",
    "    applicant['posts'] = assign_social_media_posts(applicant['gender'])\n",
    "    applicant['access'] = {\n",
    "        'health': True,\n",
    "        'posts': False,\n",
    "        'steps': False\n",
    "    }"
   ]
  },
  {
   "cell_type": "code",
   "execution_count": 50,
   "metadata": {},
   "outputs": [],
   "source": [
    "# access probabilities\n",
    "\n",
    "data_folder = '../../data/demographics'\n",
    "\n",
    "with open(f\"{data_folder}/population/social_media.json\", 'r') as file:\n",
    "    ig_usage = json.load(file)\n",
    "\n",
    "access = 0.4"
   ]
  },
  {
   "cell_type": "code",
   "execution_count": 51,
   "metadata": {},
   "outputs": [],
   "source": [
    "# assign access levels provided by each applicant\n",
    "\n",
    "grouped = {f\"{grp['from']}-{grp['to']}\": [] for grp in ig_usage}\n",
    "for id, applicant in applicants.items():\n",
    "    for grp in ig_usage:\n",
    "        if grp['from'] <= applicant['age'] <= grp['to']:\n",
    "            key = f\"{grp['from']}-{grp['to']}\"\n",
    "            grouped[key].append(id)\n",
    "            break\n",
    "\n",
    "total_applicants = len(applicants)\n",
    "\n",
    "for grp in ig_usage:\n",
    "    key = f\"{grp['from']}-{grp['to']}\"\n",
    "    group_people = grouped[key]\n",
    "    n = len(group_people)\n",
    "    target_count = round(grp['percentage'] * total_applicants)\n",
    "    assign_count = min(target_count, n)\n",
    "    selected = random.sample(group_people, assign_count) if assign_count > 0 else []\n",
    "\n",
    "    for id in group_people:\n",
    "        applicants[id]['access'] = {\n",
    "            'health': True,\n",
    "            'posts': random.random() <= access if id in selected else False,\n",
    "            'steps': id in selected\n",
    "        }"
   ]
  },
  {
   "cell_type": "code",
   "execution_count": 53,
   "metadata": {},
   "outputs": [],
   "source": [
    "# save applicants data\n",
    "\n",
    "data_folder = '../../data/applicants'\n",
    "\n",
    "with open(f\"{data_folder}/applicants.json\", 'w', encoding='utf-8') as file:\n",
    "    json.dump(applicants, file, indent=4, ensure_ascii=False)"
   ]
  }
 ],
 "metadata": {
  "kernelspec": {
   "display_name": "Python 3",
   "language": "python",
   "name": "python3"
  },
  "language_info": {
   "codemirror_mode": {
    "name": "ipython",
    "version": 3
   },
   "file_extension": ".py",
   "mimetype": "text/x-python",
   "name": "python",
   "nbconvert_exporter": "python",
   "pygments_lexer": "ipython3",
   "version": "3.12.7"
  }
 },
 "nbformat": 4,
 "nbformat_minor": 2
}
