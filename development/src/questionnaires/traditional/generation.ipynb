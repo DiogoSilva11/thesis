{
 "cells": [
  {
   "cell_type": "markdown",
   "metadata": {},
   "source": [
    "# Generation"
   ]
  },
  {
   "cell_type": "code",
   "execution_count": 1,
   "metadata": {},
   "outputs": [],
   "source": [
    "# import libraries\n",
    "\n",
    "import json"
   ]
  },
  {
   "cell_type": "code",
   "execution_count": 2,
   "metadata": {},
   "outputs": [],
   "source": [
    "# load applicant answers\n",
    "\n",
    "data_folder = '../../../data/applicants'\n",
    "\n",
    "with open(f\"{data_folder}/answers.json\", 'r') as file:\n",
    "    answers = json.load(file)"
   ]
  },
  {
   "cell_type": "code",
   "execution_count": 3,
   "metadata": {},
   "outputs": [],
   "source": [
    "# questionnaire sections\n",
    "\n",
    "categories = [\n",
    "    'personal',\n",
    "    'lifestyle',\n",
    "    'family',\n",
    "    'health'\n",
    "]"
   ]
  },
  {
   "cell_type": "code",
   "execution_count": 4,
   "metadata": {},
   "outputs": [],
   "source": [
    "# load questions\n",
    "\n",
    "data_folder = '../../../data/questionnaires'\n",
    "\n",
    "questions = {}\n",
    "for category in categories:\n",
    "    with open(f\"{data_folder}/questions/{category}.json\", 'r') as f:\n",
    "        questions[category] = json.load(f)"
   ]
  },
  {
   "cell_type": "code",
   "execution_count": 5,
   "metadata": {},
   "outputs": [],
   "source": [
    "def questionnaire_section(applicant_id : str, category : str, stats : dict) -> list[dict]:\n",
    "    '''\n",
    "    Presents a set of questions for a section of the questionnaire\n",
    "    '''\n",
    "    section = []\n",
    "    for index, factor in enumerate(questions[category].keys()):\n",
    "        if index >= 10:\n",
    "            break\n",
    "        answer = answers[applicant_id][factor]\n",
    "        section.append({\n",
    "            'questionId': index + 1,\n",
    "            'factor': factor,\n",
    "            'answer': answer\n",
    "        })\n",
    "        stats[category][factor]['count'] += 1\n",
    "        stats[category][factor]['answers'][answer] += 1\n",
    "    return section"
   ]
  },
  {
   "cell_type": "code",
   "execution_count": 6,
   "metadata": {},
   "outputs": [],
   "source": [
    "# variable to store statistics\n",
    "\n",
    "stats = {}\n",
    "for category in categories:\n",
    "    stats[category] = {}\n",
    "    for index, (factor, content) in enumerate(questions[category].items()):\n",
    "        if index >= 10:\n",
    "            break\n",
    "        stats[category][factor] = {\n",
    "            'count': 0,\n",
    "            'answers': [0] * len(content['options'])\n",
    "        }"
   ]
  },
  {
   "cell_type": "code",
   "execution_count": 7,
   "metadata": {},
   "outputs": [],
   "source": [
    "# generate traditional questionnaires filled with answers\n",
    "\n",
    "dataset = {}\n",
    "for id in answers.keys():\n",
    "    questionnaire = {}\n",
    "    for category in categories:\n",
    "        questionnaire[category] = questionnaire_section(id, category, stats)\n",
    "        dataset[id] = questionnaire"
   ]
  },
  {
   "cell_type": "code",
   "execution_count": 8,
   "metadata": {},
   "outputs": [],
   "source": [
    "# save all traditional questionnaires and respective statistics\n",
    "\n",
    "data_folder = '../../../data/questionnaires'\n",
    "\n",
    "with open(f\"{data_folder}/records/traditional.json\", 'w') as file:\n",
    "    json.dump(dataset, file, indent=4, ensure_ascii=False)\n",
    "\n",
    "with open(f\"{data_folder}/stats/traditional.json\", 'w') as file:\n",
    "    json.dump(stats, file, indent=4, ensure_ascii=False)"
   ]
  }
 ],
 "metadata": {
  "kernelspec": {
   "display_name": "Python 3",
   "language": "python",
   "name": "python3"
  },
  "language_info": {
   "codemirror_mode": {
    "name": "ipython",
    "version": 3
   },
   "file_extension": ".py",
   "mimetype": "text/x-python",
   "name": "python",
   "nbconvert_exporter": "python",
   "pygments_lexer": "ipython3",
   "version": "3.12.7"
  }
 },
 "nbformat": 4,
 "nbformat_minor": 2
}
