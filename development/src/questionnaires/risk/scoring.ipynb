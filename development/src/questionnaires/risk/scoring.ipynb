{
 "cells": [
  {
   "cell_type": "markdown",
   "metadata": {},
   "source": [
    "# Scoring"
   ]
  },
  {
   "cell_type": "code",
   "execution_count": 17,
   "metadata": {},
   "outputs": [],
   "source": [
    "# import libraries\n",
    "\n",
    "import sys\n",
    "import os\n",
    "import json\n",
    "\n",
    "notebook_dir = os.path.abspath(\"..\")\n",
    "src_path = os.path.abspath(os.path.join(notebook_dir, \"..\"))\n",
    "sys.path.append(src_path)\n",
    "\n",
    "from questionnaires.risk.risk import *"
   ]
  },
  {
   "cell_type": "code",
   "execution_count": 18,
   "metadata": {},
   "outputs": [],
   "source": [
    "# load applicant answers\n",
    "\n",
    "data_folder = '../../../data/applicants'\n",
    "\n",
    "with open(f\"{data_folder}/answers.json\", 'r') as file:\n",
    "    all_answers = json.load(file)"
   ]
  },
  {
   "cell_type": "code",
   "execution_count": 19,
   "metadata": {},
   "outputs": [],
   "source": [
    "# load weights and combinations\n",
    "\n",
    "weights, combinations = load_weights()"
   ]
  },
  {
   "cell_type": "code",
   "execution_count": 20,
   "metadata": {},
   "outputs": [
    {
     "name": "stdout",
     "output_type": "stream",
     "text": [
      "Best possible score: 0\n"
     ]
    }
   ],
   "source": [
    "# best possible risk score\n",
    "\n",
    "best_answers = {\n",
    "    'personal_age': 0,\n",
    "    'personal_gender': 1,\n",
    "    'personal_marital': 1,\n",
    "    'personal_location': 0,\n",
    "    'personal_occupation': 0,\n",
    "    'lifestyle_job_hazards': 8,\n",
    "    'lifestyle_smoking': 4,\n",
    "    'lifestyle_diet': 0,\n",
    "    'lifestyle_exercise': 3,\n",
    "    'lifestyle_alcohol': 4,\n",
    "    'lifestyle_drugs': 1,\n",
    "    'lifestyle_sleep': 2,\n",
    "    'lifestyle_stress': 1,\n",
    "    'lifestyle_healthcare_access': 0,\n",
    "    'lifestyle_health_checkups': 0,\n",
    "    'lifestyle_socioeconomic_status': 1,\n",
    "    'lifestyle_air_pollution': 0,\n",
    "    'lifestyle_unsafe_sex': 1,\n",
    "    'lifestyle_loneliness': 1,\n",
    "    'lifestyle_crime': 1,\n",
    "    'lifestyle_natural_disasters': 3,\n",
    "    'lifestyle_driving': 1,\n",
    "    'lifestyle_dangerous_hobbies': 1,\n",
    "    'lifestyle_housing': 1,\n",
    "    'lifestyle_green_spaces': 0,\n",
    "    'family_cancer': 5,\n",
    "    'family_heart': 2,\n",
    "    'family_stroke': 2,\n",
    "    'family_diabetes': 2,\n",
    "    'family_hypertension': 1,\n",
    "    'family_kidney': 1,\n",
    "    'family_neurological': 1,\n",
    "    'family_epilepsy': 1,\n",
    "    'family_longevity': 0,\n",
    "    'family_death_cause': 5,\n",
    "    'family_mental_illness': 1,\n",
    "    'family_bones': 1,\n",
    "    'family_obesity': 1,\n",
    "    'family_cholesterol': 1,\n",
    "    'family_liver': 1,\n",
    "    'family_autoimmune_disease': 1,\n",
    "    'family_anemia': 1,\n",
    "    'family_pregnancy': 1,\n",
    "    'family_circulatory': 1,\n",
    "    'family_respiratory': 1,\n",
    "    'health_cancer': 5,\n",
    "    'health_heart': 1,\n",
    "    'health_stroke': 1,\n",
    "    'health_diabetes': 2,\n",
    "    'health_hypertension': 1,\n",
    "    'health_weight': 1,\n",
    "    'health_respiratory': 1,\n",
    "    'health_kidney': 1,\n",
    "    'health_anemia': 1,\n",
    "    'health_neurological': 1,\n",
    "    'health_mental_illness': 1,\n",
    "    'health_liver': 1,\n",
    "    'health_cholesterol': 1,\n",
    "    'health_autoimmune_disease': 1,\n",
    "    'health_infections': 1,\n",
    "    'health_pregnancy': 2,\n",
    "    'health_bones': 1,\n",
    "    'health_circulatory': 1,\n",
    "    'health_injury': 6,\n",
    "    'health_digestive_condition': 1\n",
    "}\n",
    "\n",
    "score = mortality_risk(best_answers, weights, combinations)\n",
    "\n",
    "print(f\"Best possible score: {score}\")"
   ]
  },
  {
   "cell_type": "code",
   "execution_count": 21,
   "metadata": {},
   "outputs": [
    {
     "name": "stdout",
     "output_type": "stream",
     "text": [
      "Worst possible score: 468\n"
     ]
    }
   ],
   "source": [
    "# worst possible risk score\n",
    "\n",
    "worst_answers = {\n",
    "    'personal_age': 3,\n",
    "    'personal_gender': 0,\n",
    "    'personal_marital': 3,\n",
    "    'personal_location': 0,\n",
    "    'personal_occupation': 0,\n",
    "    'lifestyle_job_hazards': 6,\n",
    "    'lifestyle_smoking': 3,\n",
    "    'lifestyle_diet': 2,\n",
    "    'lifestyle_exercise': 0,\n",
    "    'lifestyle_alcohol': 0,\n",
    "    'lifestyle_drugs': 0,\n",
    "    'lifestyle_sleep': 0,\n",
    "    'lifestyle_stress': 0,\n",
    "    'lifestyle_healthcare_access': 1,\n",
    "    'lifestyle_health_checkups': 2,\n",
    "    'lifestyle_socioeconomic_status': 0,\n",
    "    'lifestyle_air_pollution': 1,\n",
    "    'lifestyle_unsafe_sex': 0,\n",
    "    'lifestyle_loneliness': 0,\n",
    "    'lifestyle_crime': 0,\n",
    "    'lifestyle_natural_disasters': 0,\n",
    "    'lifestyle_driving': 0,\n",
    "    'lifestyle_dangerous_hobbies': 0,\n",
    "    'lifestyle_housing': 0,\n",
    "    'lifestyle_green_spaces': 1,\n",
    "    'family_cancer': 0,\n",
    "    'family_heart': 0,\n",
    "    'family_stroke': 0,\n",
    "    'family_diabetes': 1,\n",
    "    'family_hypertension': 0,\n",
    "    'family_kidney': 0,\n",
    "    'family_neurological': 0,\n",
    "    'family_epilepsy': 0,\n",
    "    'family_longevity': 1,\n",
    "    'family_death_cause': 0,\n",
    "    'family_mental_illness': 0,\n",
    "    'family_bones': 0,\n",
    "    'family_obesity': 0,\n",
    "    'family_cholesterol': 0,\n",
    "    'family_liver': 0,\n",
    "    'family_autoimmune_disease': 0,\n",
    "    'family_anemia': 0,\n",
    "    'family_pregnancy': 0,\n",
    "    'family_circulatory': 0,\n",
    "    'family_respiratory': 0,\n",
    "    'health_cancer': 0,\n",
    "    'health_heart': 0,\n",
    "    'health_stroke': 0,\n",
    "    'health_diabetes': 1,\n",
    "    'health_hypertension': 0,\n",
    "    'health_weight': 2,\n",
    "    'health_respiratory': 0,\n",
    "    'health_kidney': 0,\n",
    "    'health_anemia': 0,\n",
    "    'health_neurological': 0,\n",
    "    'health_mental_illness': 0,\n",
    "    'health_liver': 0,\n",
    "    'health_cholesterol': 0,\n",
    "    'health_autoimmune_disease': 0,\n",
    "    'health_infections': 0,\n",
    "    'health_pregnancy': 0,\n",
    "    'health_bones': 0,\n",
    "    'health_circulatory': 0,\n",
    "    'health_injury': 0,\n",
    "    'health_digestive_condition': 0\n",
    "}\n",
    "\n",
    "score = mortality_risk(worst_answers, weights, combinations)\n",
    "\n",
    "print(f\"Worst possible score: {score}\")"
   ]
  },
  {
   "cell_type": "code",
   "execution_count": 22,
   "metadata": {},
   "outputs": [],
   "source": [
    "# assign risk scores to applicants\n",
    "\n",
    "scores = {}\n",
    "for id, answers in all_answers.items():\n",
    "    score = mortality_risk(answers, weights, combinations)\n",
    "    scores[id] = score"
   ]
  },
  {
   "cell_type": "code",
   "execution_count": 23,
   "metadata": {},
   "outputs": [],
   "source": [
    "# save all applicant risk scores\n",
    "\n",
    "data_folder = '../../../data/applicants'\n",
    "\n",
    "with open(f\"{data_folder}/scores.json\", 'w') as file:\n",
    "    json.dump(scores, file, indent=4, ensure_ascii=False)"
   ]
  },
  {
   "cell_type": "markdown",
   "metadata": {},
   "source": [
    "### Traditional"
   ]
  },
  {
   "cell_type": "code",
   "execution_count": 24,
   "metadata": {},
   "outputs": [],
   "source": [
    "# load records\n",
    "\n",
    "data_folder = '../../../data/questionnaires'\n",
    "\n",
    "with open(f\"{data_folder}/records/traditional.json\", 'r') as file:\n",
    "    records = json.load(file)"
   ]
  },
  {
   "cell_type": "code",
   "execution_count": 25,
   "metadata": {},
   "outputs": [],
   "source": [
    "# categories\n",
    "\n",
    "categories = [\n",
    "    'personal',\n",
    "    'lifestyle',\n",
    "    'family',\n",
    "    'health'\n",
    "]"
   ]
  },
  {
   "cell_type": "code",
   "execution_count": 26,
   "metadata": {},
   "outputs": [],
   "source": [
    "# traditional answers\n",
    "\n",
    "traditional_answers = {}\n",
    "for id, record in records.items():\n",
    "    answers = {}\n",
    "    for category in categories:\n",
    "        for item in record[category]:\n",
    "            answers[item['factor']] = item['answer']\n",
    "    traditional_answers[id] = answers"
   ]
  },
  {
   "cell_type": "code",
   "execution_count": 27,
   "metadata": {},
   "outputs": [],
   "source": [
    "# assign risk scores to applicants\n",
    "\n",
    "scores = {}\n",
    "for id, answers in traditional_answers.items():\n",
    "    score = mortality_risk(answers, weights, combinations)\n",
    "    scores[id] = score"
   ]
  },
  {
   "cell_type": "code",
   "execution_count": 28,
   "metadata": {},
   "outputs": [],
   "source": [
    "# save all traditional risk scores\n",
    "\n",
    "with open(f\"{data_folder}/scores/traditional.json\", 'w') as file:\n",
    "    json.dump(scores, file, indent=4, ensure_ascii=False)"
   ]
  },
  {
   "cell_type": "markdown",
   "metadata": {},
   "source": [
    "### Dynamic"
   ]
  },
  {
   "cell_type": "code",
   "execution_count": 29,
   "metadata": {},
   "outputs": [],
   "source": [
    "# load records\n",
    "\n",
    "data_folder = '../../../data/questionnaires'\n",
    "\n",
    "with open(f\"{data_folder}/records/dynamic_2.json\", 'r') as file:\n",
    "    records = json.load(file)"
   ]
  },
  {
   "cell_type": "code",
   "execution_count": 30,
   "metadata": {},
   "outputs": [],
   "source": [
    "# traditional answers\n",
    "\n",
    "dynamic_answers = {}\n",
    "for id, record in records.items():\n",
    "    answers = {}\n",
    "    for item in record:\n",
    "        answers[item['factor']] = item['answer'] if 'answer' in item else item['prediction']\n",
    "    dynamic_answers[id] = answers"
   ]
  },
  {
   "cell_type": "code",
   "execution_count": 31,
   "metadata": {},
   "outputs": [],
   "source": [
    "# assign risk scores to applicants\n",
    "\n",
    "scores = {}\n",
    "for id, answers in dynamic_answers.items():\n",
    "    score = mortality_risk(answers, weights, combinations)\n",
    "    scores[id] = score"
   ]
  },
  {
   "cell_type": "code",
   "execution_count": 32,
   "metadata": {},
   "outputs": [],
   "source": [
    "# save all dynamic risk scores\n",
    "\n",
    "with open(f\"{data_folder}/scores/dynamic_2.json\", 'w') as file:\n",
    "    json.dump(scores, file, indent=4, ensure_ascii=False)"
   ]
  }
 ],
 "metadata": {
  "kernelspec": {
   "display_name": "Python 3",
   "language": "python",
   "name": "python3"
  },
  "language_info": {
   "codemirror_mode": {
    "name": "ipython",
    "version": 3
   },
   "file_extension": ".py",
   "mimetype": "text/x-python",
   "name": "python",
   "nbconvert_exporter": "python",
   "pygments_lexer": "ipython3",
   "version": "3.12.7"
  }
 },
 "nbformat": 4,
 "nbformat_minor": 2
}
