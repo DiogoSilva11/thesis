{
 "cells": [
  {
   "cell_type": "markdown",
   "metadata": {},
   "source": [
    "# Factors"
   ]
  },
  {
   "cell_type": "code",
   "execution_count": 58,
   "metadata": {},
   "outputs": [],
   "source": [
    "# import libraries\n",
    "\n",
    "import sys\n",
    "import os\n",
    "import json\n",
    "\n",
    "notebook_dir = os.path.abspath(\"..\")\n",
    "src_path = os.path.abspath(os.path.join(notebook_dir, \"..\"))\n",
    "sys.path.append(src_path)\n",
    "\n",
    "from questionnaires.risk.risk import *"
   ]
  },
  {
   "cell_type": "code",
   "execution_count": 59,
   "metadata": {},
   "outputs": [],
   "source": [
    "# load applicant answers\n",
    "\n",
    "data_folder = '../../../data/applicants'\n",
    "\n",
    "with open(f\"{data_folder}/answers.json\", 'r') as file:\n",
    "    all_answers = json.load(file)"
   ]
  },
  {
   "cell_type": "code",
   "execution_count": 60,
   "metadata": {},
   "outputs": [],
   "source": [
    "# load dynamic records\n",
    "\n",
    "data_folder = '../../../data/questionnaires'\n",
    "\n",
    "with open(f\"{data_folder}/records/dynamic.json\", 'r', encoding='utf-8') as file:\n",
    "    records = json.load(file)"
   ]
  },
  {
   "cell_type": "code",
   "execution_count": 61,
   "metadata": {},
   "outputs": [],
   "source": [
    "# load weights\n",
    "\n",
    "weights, _ = load_weights()"
   ]
  },
  {
   "cell_type": "code",
   "execution_count": 62,
   "metadata": {},
   "outputs": [],
   "source": [
    "# choose an applicant\n",
    "\n",
    "id = 'bfb6537b-535a-4f31-9a56-073220f96a17'"
   ]
  },
  {
   "cell_type": "code",
   "execution_count": 63,
   "metadata": {},
   "outputs": [
    {
     "data": {
      "text/plain": [
       "['personal_age',\n",
       " 'lifestyle_job_hazards',\n",
       " 'lifestyle_diet',\n",
       " 'lifestyle_alcohol',\n",
       " 'lifestyle_sleep',\n",
       " 'lifestyle_healthcare_access',\n",
       " 'lifestyle_health_checkups',\n",
       " 'lifestyle_air_pollution',\n",
       " 'lifestyle_unsafe_sex',\n",
       " 'lifestyle_loneliness',\n",
       " 'lifestyle_dangerous_hobbies',\n",
       " 'lifestyle_green_spaces',\n",
       " 'family_heart',\n",
       " 'family_diabetes',\n",
       " 'family_longevity',\n",
       " 'family_pregnancy',\n",
       " 'family_respiratory',\n",
       " 'health_diabetes',\n",
       " 'health_weight',\n",
       " 'health_respiratory',\n",
       " 'health_anemia',\n",
       " 'health_mental_illness',\n",
       " 'health_infections',\n",
       " 'health_pregnancy']"
      ]
     },
     "execution_count": 63,
     "metadata": {},
     "output_type": "execute_result"
    }
   ],
   "source": [
    "# identify risks\n",
    "\n",
    "identify_risks(all_answers[id], weights)"
   ]
  },
  {
   "cell_type": "code",
   "execution_count": 64,
   "metadata": {},
   "outputs": [
    {
     "data": {
      "text/plain": [
       "['lifestyle_job_hazards',\n",
       " 'lifestyle_healthcare_access',\n",
       " 'lifestyle_dangerous_hobbies',\n",
       " 'health_diabetes',\n",
       " 'health_respiratory',\n",
       " 'health_anemia',\n",
       " 'health_infections',\n",
       " 'health_pregnancy']"
      ]
     },
     "execution_count": 64,
     "metadata": {},
     "output_type": "execute_result"
    }
   ],
   "source": [
    "# dynamically selected factors\n",
    "\n",
    "factors = []\n",
    "questionnaire = records[id]\n",
    "\n",
    "for item in questionnaire:\n",
    "    if 'prediction' in item:\n",
    "        factors.append(item['factor'])\n",
    "\n",
    "factors"
   ]
  }
 ],
 "metadata": {
  "kernelspec": {
   "display_name": "Python 3",
   "language": "python",
   "name": "python3"
  },
  "language_info": {
   "codemirror_mode": {
    "name": "ipython",
    "version": 3
   },
   "file_extension": ".py",
   "mimetype": "text/x-python",
   "name": "python",
   "nbconvert_exporter": "python",
   "pygments_lexer": "ipython3",
   "version": "3.12.7"
  }
 },
 "nbformat": 4,
 "nbformat_minor": 2
}
