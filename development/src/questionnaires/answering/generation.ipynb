{
 "cells": [
  {
   "cell_type": "markdown",
   "metadata": {},
   "source": [
    "# Generation"
   ]
  },
  {
   "cell_type": "code",
   "execution_count": 10,
   "metadata": {},
   "outputs": [],
   "source": [
    "# import libraries\n",
    "\n",
    "import sys\n",
    "import os\n",
    "import json\n",
    "import math\n",
    "\n",
    "import pandas as pd\n",
    "\n",
    "notebook_dir = os.path.abspath(\"..\")\n",
    "src_path = os.path.abspath(os.path.join(notebook_dir, \"..\"))\n",
    "sys.path.append(src_path)\n",
    "\n",
    "from questionnaires.answering.personal import personal_answer\n",
    "from questionnaires.answering.lifestyle import lifestyle_answer\n",
    "from questionnaires.answering.health import health_answer\n",
    "from questionnaires.answering.family import family_answer"
   ]
  },
  {
   "cell_type": "code",
   "execution_count": 11,
   "metadata": {},
   "outputs": [],
   "source": [
    "# load applicants data\n",
    "\n",
    "data_folder = '../../../data/applicants'\n",
    "\n",
    "with open(f\"{data_folder}/applicants.json\", 'r', encoding='utf-8') as f:\n",
    "    applicants = json.load(f)"
   ]
  },
  {
   "cell_type": "code",
   "execution_count": 12,
   "metadata": {},
   "outputs": [],
   "source": [
    "# regional indicators\n",
    "\n",
    "indicators = [\n",
    "    'mortality',\n",
    "    'morbidity',\n",
    "    'healthcare',\n",
    "    'lifestyle',\n",
    "    'education',\n",
    "    'socioeconomic',\n",
    "    'environment',\n",
    "    'infrastructure',\n",
    "    'security'\n",
    "]"
   ]
  },
  {
   "cell_type": "code",
   "execution_count": 13,
   "metadata": {},
   "outputs": [],
   "source": [
    "def collect_geo_indicators(municipality : str) -> list[str]:\n",
    "    '''\n",
    "    Fetches the main risk indicators from a municipality\n",
    "    '''\n",
    "    demographics = {}\n",
    "    for indicator in indicators:\n",
    "        content = pd.read_csv(f\"../../../data/demographics/processed/{indicator}.csv\", encoding='utf-8')\n",
    "        if municipality in content['municipality'].values:\n",
    "            municipality_data = content[content['municipality'] == municipality].iloc[0]\n",
    "            for column in municipality_data.index[1:]:\n",
    "                value = municipality_data[column]\n",
    "                if value in ['very low', 'low', 'high', 'very high']:\n",
    "                    demographics[column] = value\n",
    "    return demographics"
   ]
  },
  {
   "cell_type": "code",
   "execution_count": 14,
   "metadata": {},
   "outputs": [],
   "source": [
    "# load electronic health records data\n",
    "\n",
    "data_folder = '../../../data/health_records'\n",
    "\n",
    "patients = pd.read_csv(f\"{data_folder}/patients.csv\")\n",
    "\n",
    "allergies = pd.read_csv(f\"{data_folder}/allergies.csv\")\n",
    "careplans = pd.read_csv(f\"{data_folder}/careplans.csv\")\n",
    "conditions = pd.read_csv(f\"{data_folder}/conditions.csv\")\n",
    "devices = pd.read_csv(f\"{data_folder}/devices.csv\")\n",
    "encounters = pd.read_csv(f\"{data_folder}/encounters.csv\")\n",
    "imagings = pd.read_csv(f\"{data_folder}/imagings.csv\")\n",
    "immunizations = pd.read_csv(f\"{data_folder}/immunizations.csv\")\n",
    "medications = pd.read_csv(f\"{data_folder}/medications.csv\")\n",
    "observations = pd.read_csv(f\"{data_folder}/observations.csv\")\n",
    "procedures = pd.read_csv(f\"{data_folder}/procedures.csv\")"
   ]
  },
  {
   "cell_type": "code",
   "execution_count": 15,
   "metadata": {},
   "outputs": [],
   "source": [
    "def clean_nans(obj : dict | list | float) -> dict | list | str:\n",
    "    '''\n",
    "    Replaces all NaN values with an empty string\n",
    "    '''\n",
    "    if isinstance(obj, dict):\n",
    "        return {k: clean_nans(v) for k, v in obj.items()}\n",
    "    elif isinstance(obj, list):\n",
    "        return [clean_nans(item) for item in obj]\n",
    "    elif isinstance(obj, float) and math.isnan(obj):\n",
    "        return ''\n",
    "    else:\n",
    "        return obj"
   ]
  },
  {
   "cell_type": "code",
   "execution_count": 16,
   "metadata": {},
   "outputs": [],
   "source": [
    "def get_health_records(patient_id : str) -> dict:\n",
    "    '''\n",
    "    Gather all health records for a given patient\n",
    "    '''\n",
    "    health_record = {}\n",
    "    health_record['patient'] = patients[patients['Id'] == patient_id][['Id', 'BIRTHDATE', 'MARITAL', 'RACE', 'ETHNICITY', 'GENDER']]\\\n",
    "        .to_dict(orient='records')[0]\n",
    "    health_record['allergies'] = allergies[allergies['PATIENT'] == patient_id]['DESCRIPTION'].unique().tolist()\n",
    "    health_record['careplans'] = careplans[careplans['PATIENT'] == patient_id]['DESCRIPTION'].unique().tolist()\n",
    "    health_record['conditions'] = conditions[conditions['PATIENT'] == patient_id]['DESCRIPTION'].unique().tolist()\n",
    "    health_record['devices'] = devices[devices['PATIENT'] == patient_id]['DESCRIPTION'].unique().tolist()\n",
    "    health_record['encounters'] = encounters[encounters['PATIENT'] == patient_id]['DESCRIPTION'].unique().tolist()\n",
    "    pat_imagings = imagings[imagings['PATIENT'] == patient_id][['BODYSITE_DESCRIPTION', 'MODALITY_DESCRIPTION']]\n",
    "    health_record['imagings'] = [\n",
    "        f\"{modality}: {bodysite}\" for modality, bodysite in zip(pat_imagings['MODALITY_DESCRIPTION'], pat_imagings['BODYSITE_DESCRIPTION'])\n",
    "    ]\n",
    "    health_record['immunizations'] = immunizations[immunizations['PATIENT'] == patient_id]['DESCRIPTION'].tolist()\n",
    "    health_record['medications'] = medications[medications['PATIENT'] == patient_id]['DESCRIPTION'].tolist()\n",
    "    health_record['procedures'] = procedures[procedures['PATIENT'] == patient_id]['DESCRIPTION'].tolist()\n",
    "    sections = ['allergies', 'careplans', 'conditions', 'devices', 'encounters', 'imagings', 'immunizations', 'medications', 'procedures']\n",
    "    records = []\n",
    "    for section in sections:\n",
    "        records += health_record[section]\n",
    "    health_record['records'] = records\n",
    "    health_record['observations'] = observations[observations['PATIENT'] == patient_id][['DESCRIPTION', 'VALUE', 'UNITS']]\\\n",
    "        .values.tolist()\n",
    "    return clean_nans(health_record)"
   ]
  },
  {
   "cell_type": "code",
   "execution_count": 17,
   "metadata": {},
   "outputs": [],
   "source": [
    "# questionnaire sections\n",
    "\n",
    "categories = [\n",
    "    'personal',\n",
    "    'lifestyle',\n",
    "    'family',\n",
    "    'health'\n",
    "]"
   ]
  },
  {
   "cell_type": "code",
   "execution_count": 18,
   "metadata": {},
   "outputs": [],
   "source": [
    "# load risks\n",
    "\n",
    "data_folder = '../../../data/questionnaires'\n",
    "\n",
    "risks = {}\n",
    "for category in categories:\n",
    "    with open(f\"{data_folder}/questions/{category}.json\", 'r') as f:\n",
    "        risks[category] = json.load(f)"
   ]
  },
  {
   "cell_type": "code",
   "execution_count": 19,
   "metadata": {},
   "outputs": [],
   "source": [
    "# retrieve geographical indicators and health records for each applicant\n",
    "\n",
    "for id, applicant in applicants.items():\n",
    "    applicant['demographics'] = collect_geo_indicators(applicant['municipality'])\n",
    "    applicant['health_records'] = get_health_records(id)"
   ]
  },
  {
   "cell_type": "code",
   "execution_count": 20,
   "metadata": {},
   "outputs": [],
   "source": [
    "def category_answers(category : str, applicant : dict) -> list[dict]:\n",
    "    '''\n",
    "    Obtains the answers from the applicant to the questions of a certain category\n",
    "    '''\n",
    "    answers = {}\n",
    "    for factor in risks[category].keys():\n",
    "        answer = 0\n",
    "        if category == 'personal':\n",
    "            answer = personal_answer(applicant, factor)\n",
    "        elif category == 'lifestyle':\n",
    "            answer = lifestyle_answer(applicant, factor)\n",
    "        elif category == 'health':\n",
    "            answer = health_answer(applicant, factor)\n",
    "        elif category == 'family':\n",
    "            answer = family_answer(applicant, factor)\n",
    "        answers[factor] = answer\n",
    "    return answers"
   ]
  },
  {
   "cell_type": "code",
   "execution_count": 21,
   "metadata": {},
   "outputs": [],
   "source": [
    "# generate all answers for each category\n",
    "\n",
    "dataset = {}\n",
    "for id, applicant in applicants.items():\n",
    "    all_answers = {}\n",
    "    for category in categories:\n",
    "        answers = category_answers(category, applicant)\n",
    "        all_answers.update(answers)\n",
    "    dataset[id] = all_answers"
   ]
  },
  {
   "cell_type": "code",
   "execution_count": 22,
   "metadata": {},
   "outputs": [],
   "source": [
    "# save all applicant answers\n",
    "\n",
    "data_folder = '../../../data/applicants'\n",
    "\n",
    "with open(f\"{data_folder}/answers.json\", 'w') as file:\n",
    "    json.dump(dataset, file, indent=4, ensure_ascii=False)"
   ]
  }
 ],
 "metadata": {
  "kernelspec": {
   "display_name": "Python 3",
   "language": "python",
   "name": "python3"
  },
  "language_info": {
   "codemirror_mode": {
    "name": "ipython",
    "version": 3
   },
   "file_extension": ".py",
   "mimetype": "text/x-python",
   "name": "python",
   "nbconvert_exporter": "python",
   "pygments_lexer": "ipython3",
   "version": "3.12.7"
  }
 },
 "nbformat": 4,
 "nbformat_minor": 2
}
