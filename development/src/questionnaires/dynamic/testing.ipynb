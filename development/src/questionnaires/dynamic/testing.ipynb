{
 "cells": [
  {
   "cell_type": "markdown",
   "metadata": {},
   "source": [
    "# Testing"
   ]
  },
  {
   "cell_type": "code",
   "execution_count": 1,
   "metadata": {},
   "outputs": [
    {
     "name": "stderr",
     "output_type": "stream",
     "text": [
      "C:\\Users\\diogofisilva\\AppData\\Roaming\\Python\\Python312\\site-packages\\tqdm\\auto.py:21: TqdmWarning: IProgress not found. Please update jupyter and ipywidgets. See https://ipywidgets.readthedocs.io/en/stable/user_install.html\n",
      "  from .autonotebook import tqdm as notebook_tqdm\n"
     ]
    }
   ],
   "source": [
    "# import libraries\n",
    "\n",
    "import json\n",
    "import math\n",
    "import os\n",
    "\n",
    "import pandas as pd\n",
    "\n",
    "from dotenv import load_dotenv\n",
    "from openai import AzureOpenAI\n",
    "\n",
    "from rag import load_embedding_model\n",
    "from applicant import Applicant\n",
    "from agent import Agent"
   ]
  },
  {
   "cell_type": "code",
   "execution_count": 2,
   "metadata": {},
   "outputs": [],
   "source": [
    "# load applicants data\n",
    "\n",
    "data_folder = '../../../data/applicants'\n",
    "\n",
    "with open(f\"{data_folder}/applicants.json\", 'r', encoding='utf-8') as file:\n",
    "    applicants = json.load(file)\n",
    "\n",
    "with open(f\"{data_folder}/answers.json\", 'r') as file:\n",
    "    answers = json.load(file)"
   ]
  },
  {
   "cell_type": "code",
   "execution_count": 3,
   "metadata": {},
   "outputs": [],
   "source": [
    "# regional indicators\n",
    "\n",
    "indicators = [\n",
    "    'mortality',\n",
    "    'morbidity',\n",
    "    'healthcare',\n",
    "    'lifestyle',\n",
    "    'education',\n",
    "    'socioeconomic',\n",
    "    'environment',\n",
    "    'infrastructure',\n",
    "    'security'\n",
    "]"
   ]
  },
  {
   "cell_type": "code",
   "execution_count": 4,
   "metadata": {},
   "outputs": [],
   "source": [
    "def collect_geo_indicators(municipality : str) -> list[str]:\n",
    "    '''\n",
    "    Fetches the main risk indicators from a municipality\n",
    "    '''\n",
    "    demographics = {}\n",
    "    for indicator in indicators:\n",
    "        content = pd.read_csv(f\"../../../data/demographics/processed/{indicator}.csv\", encoding='utf-8')\n",
    "        if municipality in content['municipality'].values:\n",
    "            municipality_data = content[content['municipality'] == municipality].iloc[0]\n",
    "            for column in municipality_data.index[1:]:\n",
    "                value = municipality_data[column]\n",
    "                if value in ['very low', 'low', 'high', 'very high']:\n",
    "                    demographics[column] = value\n",
    "    return demographics"
   ]
  },
  {
   "cell_type": "code",
   "execution_count": 5,
   "metadata": {},
   "outputs": [],
   "source": [
    "# load electronic health records data\n",
    "\n",
    "data_folder = '../../../data/health_records'\n",
    "\n",
    "patients = pd.read_csv(f\"{data_folder}/patients.csv\")\n",
    "\n",
    "allergies = pd.read_csv(f\"{data_folder}/allergies.csv\")\n",
    "careplans = pd.read_csv(f\"{data_folder}/careplans.csv\")\n",
    "conditions = pd.read_csv(f\"{data_folder}/conditions.csv\")\n",
    "devices = pd.read_csv(f\"{data_folder}/devices.csv\")\n",
    "encounters = pd.read_csv(f\"{data_folder}/encounters.csv\")\n",
    "imagings = pd.read_csv(f\"{data_folder}/imagings.csv\")\n",
    "immunizations = pd.read_csv(f\"{data_folder}/immunizations.csv\")\n",
    "medications = pd.read_csv(f\"{data_folder}/medications.csv\")\n",
    "observations = pd.read_csv(f\"{data_folder}/observations.csv\")\n",
    "procedures = pd.read_csv(f\"{data_folder}/procedures.csv\")"
   ]
  },
  {
   "cell_type": "code",
   "execution_count": 6,
   "metadata": {},
   "outputs": [],
   "source": [
    "def recent_observations(observations : list[list]) -> list[list]:\n",
    "    '''\n",
    "    Returns only the latest observations from the health records\n",
    "    '''\n",
    "    unique_data_dict = {}\n",
    "    for entry in observations:\n",
    "        key = entry[0]\n",
    "        unique_data_dict[key] = entry\n",
    "    unique_data = list(unique_data_dict.values())\n",
    "    unique_data.sort(key=lambda x: x[0])\n",
    "    return unique_data"
   ]
  },
  {
   "cell_type": "code",
   "execution_count": 7,
   "metadata": {},
   "outputs": [],
   "source": [
    "def clean_nans(obj : dict | list | float) -> dict | list | str:\n",
    "    '''\n",
    "    Replaces all NaN values with an empty string\n",
    "    '''\n",
    "    if isinstance(obj, dict):\n",
    "        return {k: clean_nans(v) for k, v in obj.items()}\n",
    "    elif isinstance(obj, list):\n",
    "        return [clean_nans(item) for item in obj]\n",
    "    elif isinstance(obj, float) and math.isnan(obj):\n",
    "        return ''\n",
    "    else:\n",
    "        return obj"
   ]
  },
  {
   "cell_type": "code",
   "execution_count": 8,
   "metadata": {},
   "outputs": [],
   "source": [
    "def get_health_records(patient_id : str) -> dict:\n",
    "    '''\n",
    "    Gather all health records for a given patient\n",
    "    '''\n",
    "    health_record = {}\n",
    "    health_record['patient'] = patients[patients['Id'] == patient_id][['Id', 'BIRTHDATE', 'MARITAL', 'RACE', 'ETHNICITY', 'GENDER']]\\\n",
    "        .to_dict(orient='records')[0]\n",
    "    health_record['allergies'] = allergies[allergies['PATIENT'] == patient_id]['DESCRIPTION'].unique().tolist()\n",
    "    health_record['careplans'] = careplans[careplans['PATIENT'] == patient_id]['DESCRIPTION'].unique().tolist()\n",
    "    health_record['conditions'] = conditions[conditions['PATIENT'] == patient_id]['DESCRIPTION'].unique().tolist()\n",
    "    health_record['devices'] = devices[devices['PATIENT'] == patient_id]['DESCRIPTION'].unique().tolist()\n",
    "    health_record['encounters'] = encounters[encounters['PATIENT'] == patient_id]['DESCRIPTION'].unique().tolist()\n",
    "    pat_imagings = imagings[imagings['PATIENT'] == patient_id][['BODYSITE_DESCRIPTION', 'MODALITY_DESCRIPTION']]\n",
    "    health_record['imagings'] = [\n",
    "        f\"{modality}: {bodysite}\" for modality, bodysite in zip(pat_imagings['MODALITY_DESCRIPTION'], pat_imagings['BODYSITE_DESCRIPTION'])\n",
    "    ]\n",
    "    health_record['immunizations'] = immunizations[immunizations['PATIENT'] == patient_id]['DESCRIPTION'].tolist()\n",
    "    health_record['medications'] = medications[medications['PATIENT'] == patient_id]['DESCRIPTION'].tolist()\n",
    "    health_record['procedures'] = procedures[procedures['PATIENT'] == patient_id]['DESCRIPTION'].tolist()\n",
    "    sections = ['allergies', 'careplans', 'conditions', 'devices', 'encounters', 'imagings', 'immunizations', 'medications', 'procedures']\n",
    "    records = []\n",
    "    for section in sections:\n",
    "        records += health_record[section]\n",
    "    health_record['records'] = records\n",
    "    raw_observations = observations[observations['PATIENT'] == patient_id][['DESCRIPTION', 'VALUE', 'UNITS']]\\\n",
    "        .values.tolist()\n",
    "    health_record['observations'] = recent_observations(raw_observations)\n",
    "    return clean_nans(health_record)"
   ]
  },
  {
   "cell_type": "code",
   "execution_count": 9,
   "metadata": {},
   "outputs": [
    {
     "name": "stdout",
     "output_type": "stream",
     "text": [
      "[AGENT] Embedding model loaded\n"
     ]
    }
   ],
   "source": [
    "# set up GPT client and model for embeddings\n",
    "\n",
    "load_dotenv()\n",
    "instance = AzureOpenAI(\n",
    "    azure_endpoint=os.getenv(\"ENDPOINT_URL\"),\n",
    "    api_key=os.getenv(\"AZURE_OPENAI_API_KEY\"),\n",
    "    api_version=\"2024-05-01-preview\",\n",
    "    # api_version=\"2025-01-01-preview\"\n",
    ")\n",
    "model = os.getenv(\"DEPLOYMENT_NAME\")\n",
    "embeddings = load_embedding_model()"
   ]
  },
  {
   "cell_type": "code",
   "execution_count": 10,
   "metadata": {},
   "outputs": [],
   "source": [
    "# create agent\n",
    "\n",
    "agent = Agent(id, instance, model, embeddings)"
   ]
  },
  {
   "cell_type": "code",
   "execution_count": 11,
   "metadata": {},
   "outputs": [],
   "source": [
    "# create applicant\n",
    "\n",
    "id = 'c8403116-d069-4130-aa02-39954fc971b5'\n",
    "applicant = Applicant(id)"
   ]
  },
  {
   "cell_type": "code",
   "execution_count": 12,
   "metadata": {},
   "outputs": [],
   "source": [
    "# applicant inputs\n",
    "\n",
    "health_records = get_health_records(id) if applicants[id]['access']['health'] else {}\n",
    "steps = applicants[id]['steps'] if applicants[id]['access']['steps'] else None\n",
    "posts = applicants[id]['posts'] if applicants[id]['access']['posts'] else []\n",
    "\n",
    "applicant.answers = {key: answers[id][key] for key in list(answers[id])[:5]}\n",
    "options = agent.questions['personal']['personal_location']['options']\n",
    "municipality = options[applicant.answers['personal_location']]"
   ]
  },
  {
   "cell_type": "code",
   "execution_count": 13,
   "metadata": {},
   "outputs": [],
   "source": [
    "# process user info\n",
    "\n",
    "agent.collect_basic_info(applicant)\n",
    "\n",
    "agent.collect_geo_indicators(applicant, municipality)\n",
    "agent.generate_geo_indices(applicant)\n",
    "\n",
    "agent.collect_social_media_posts(applicant, posts)\n",
    "agent.generate_posts_indices(applicant)\n",
    "\n",
    "agent.collect_health_records(applicant, health_records, steps)\n",
    "agent.generate_health_indices(applicant)"
   ]
  },
  {
   "cell_type": "code",
   "execution_count": 14,
   "metadata": {},
   "outputs": [],
   "source": [
    "# start conversation\n",
    "\n",
    "agent.start_conversation()"
   ]
  },
  {
   "cell_type": "code",
   "execution_count": 15,
   "metadata": {},
   "outputs": [
    {
     "name": "stdout",
     "output_type": "stream",
     "text": [
      "You are a life insurance expert in mortality risk assessment.\n",
      "You will be provided with user insights.\n",
      "Your task is to identify all risk factors present in a negative or risky way.\n",
      "Find as many factors as you can, even if they are not so obvious.\n",
      "You are only allowed to select from this exact list of risk factors (delimited by triple backticks).\n",
      "```\n",
      "lifestyle_job_hazards\n",
      "lifestyle_smoking\n",
      "lifestyle_diet\n",
      "lifestyle_exercise\n",
      "lifestyle_alcohol\n",
      "lifestyle_drugs\n",
      "lifestyle_sleep\n",
      "lifestyle_stress\n",
      "lifestyle_healthcare_access\n",
      "lifestyle_health_checkups\n",
      "lifestyle_socioeconomic_status\n",
      "lifestyle_air_pollution\n",
      "lifestyle_unsafe_sex\n",
      "lifestyle_loneliness\n",
      "lifestyle_crime\n",
      "lifestyle_natural_disasters\n",
      "lifestyle_driving\n",
      "lifestyle_dangerous_hobbies\n",
      "lifestyle_housing\n",
      "lifestyle_green_spaces\n",
      "family_cancer\n",
      "family_heart\n",
      "family_stroke\n",
      "family_diabetes\n",
      "family_hypertension\n",
      "family_kidney\n",
      "family_neurological\n",
      "family_epilepsy\n",
      "family_longevity\n",
      "family_death_cause\n",
      "family_mental_illness\n",
      "family_bones\n",
      "family_obesity\n",
      "family_cholesterol\n",
      "family_liver\n",
      "family_autoimmune_disease\n",
      "family_anemia\n",
      "family_pregnancy\n",
      "family_circulatory\n",
      "family_respiratory\n",
      "health_cancer\n",
      "health_heart\n",
      "health_stroke\n",
      "health_diabetes\n",
      "health_hypertension\n",
      "health_weight\n",
      "health_respiratory\n",
      "health_kidney\n",
      "health_anemia\n",
      "health_neurological\n",
      "health_mental_illness\n",
      "health_liver\n",
      "health_cholesterol\n",
      "health_autoimmune_disease\n",
      "health_infections\n",
      "health_pregnancy\n",
      "health_bones\n",
      "health_circulatory\n",
      "health_injury\n",
      "health_digestive_condition\n",
      "```\n",
      "\n",
      "Simply return in this JSON format:\n",
      "[\n",
      "    \"factor_a\",\n",
      "    \"factor_b\", \n",
      "    \"factor_c\"\n",
      "]\n"
     ]
    }
   ],
   "source": [
    "print(agent.conversation[0]['content'])"
   ]
  },
  {
   "cell_type": "code",
   "execution_count": 16,
   "metadata": {},
   "outputs": [],
   "source": [
    "# identify factors\n",
    "\n",
    "agent.identify_factors(applicant)"
   ]
  },
  {
   "cell_type": "code",
   "execution_count": null,
   "metadata": {},
   "outputs": [
    {
     "name": "stdout",
     "output_type": "stream",
     "text": [
      "Basic user information:\n",
      "- age: 40-59\n",
      "- gender: Female\n",
      "- marital: Single\n",
      "- location: Gondomar\n",
      "- occupation: Tradesperson\n",
      "\n",
      "Indicators from the user's city:\n",
      "- road accidents with victims: very low\n",
      "- alcohol-sensitive mortality: very low\n",
      "- diabetes mortality: very low\n",
      "- distance to green spaces: very low\n",
      "- urban green space: very low\n",
      "- mortality sensitive to tobacco consumption: very low\n",
      "- mortality from suicide and self-inflicted injuries: very low\n",
      "- users without a family doctor: very low\n",
      "- unsanitary housing: very low\n",
      "- safe water: very high\n",
      "- mortality from healthcare-sensitive causes: very low\n",
      "- elderly population living alone: very low\n",
      "- distance to primary health care: very low\n",
      "- social response capacity for seniors: very low\n",
      "- illiteracy rate: very low\n",
      "\n",
      "Data from the user's health records:\n",
      "- Normal pregnancy\n",
      "- Creatinine: 2.7 mg/dL\n",
      "- Colonoscopy\n",
      "- DALY: 2.5 a\n",
      "- Respiratory rate: 12.0 /min\n",
      "- Diabetes self management plan\n",
      "- Chloride: 104.3 mmol/L\n",
      "- zoster\n",
      "- Encounter for symptom\n",
      "- Sodium: 143.0 mmol/L\n",
      "- Insertion of intrauterine contraceptive device\n",
      "- Glomerular filtration rate/1.73 sq M.predicted: 66.9 mL/min\n",
      "- Anemia (disorder)\n",
      "- Hyperlipidemia\n",
      "- Body Mass Index: 27.3 kg/m2\n",
      "- Medication Reconciliation (procedure)\n",
      "- QALY: 49.5 a\n",
      "- Total Cholesterol: 167.3 mg/dL\n",
      "- Acute viral pharyngitis (disorder)\n",
      "- Tobacco smoking status NHIS: Never smoker \n",
      "- Follow-up encounter\n",
      "- Encounter for problem\n",
      "- Ortho Tri-Cyclen 28 Day Pack\n",
      "- Prediabetes\n",
      "- Encounter for 'check-up'\n",
      "- Carbon Dioxide: 21.6 mmol/L\n",
      "- Body Weight: 66.7 kg\n",
      "- Low Density Lipoprotein Cholesterol: 133.8 mg/dL\n",
      "- RDW - Erythrocyte distribution width Auto (RBC) [Entitic vol]: 43.3 fL\n",
      "- MCH [Entitic mass] by Automated count: 28.5 pg\n",
      "- Viral sinusitis (disorder)\n",
      "- Average Physical Activity: 5678 steps/day\n",
      "- Miscarriage in first trimester\n",
      "- Alanine aminotransferase [Enzymatic activity/volume] in Serum or Plasma: 38.0 U/L\n",
      "- Hemoglobin A1c/Hemoglobin.total in Blood: 6.3 %\n",
      "- Consultation for treatment\n",
      "- Diastolic Blood Pressure: 80.0 mm[Hg]\n",
      "- Hematocrit [Volume Fraction] of Blood: 33.1 %\n",
      "- High Density Lipoprotein Cholesterol: 56.2 mg/dL\n",
      "- Depression screening\n",
      "- Heart rate: 98.0 /min\n",
      "- Systolic Blood Pressure: 110.0 mm[Hg]\n",
      "- Body Height: 156.3 cm\n",
      "- Recurrent urinary tract infection\n",
      "- Pain severity - 0-10 verbal numeric rating [Score] - Reported: 4.0 {score}\n",
      "- General examination of patient (procedure)\n",
      "- Urea Nitrogen: 15.5 mg/dL\n",
      "- Glucose: 73.5 mg/dL\n",
      "- Fetus with unknown complication\n",
      "- Physical examination\n",
      "- Patient encounter procedure\n",
      "\n",
      "Images from the user's social media:\n",
      "- a woman in a bathtub with a view of the city\n",
      "- a group of young boys playing soccer on a field\n",
      "- the royal albert hall concert poster\n",
      "- the bmw concept suv is parked in front of an entrance\n",
      "- two women sitting at a table with drinks\n",
      "- two women with tattoos on their faces posing for the camera\n",
      "- a woman in a gold dress standing in front of a large screen\n",
      "- a table with candles and flowers on it\n",
      "\n",
      "\n"
     ]
    }
   ],
   "source": [
    "print(agent.conversation[1]['content'])"
   ]
  },
  {
   "cell_type": "code",
   "execution_count": null,
   "metadata": {},
   "outputs": [
    {
     "name": "stdout",
     "output_type": "stream",
     "text": [
      "[\n",
      "    \"lifestyle_green_spaces\",\n",
      "    \"lifestyle_loneliness\",\n",
      "    \"health_diabetes\",\n",
      "    \"health_cholesterol\",\n",
      "    \"health_anemia\",\n",
      "    \"health_kidney\",\n",
      "    \"health_pregnancy\",\n",
      "    \"health_infections\",\n",
      "    \"health_weight\",\n",
      "    \"health_mental_illness\",\n",
      "    \"health_digestive_condition\"\n",
      "]\n"
     ]
    }
   ],
   "source": [
    "print(agent.conversation[2]['content'])"
   ]
  },
  {
   "cell_type": "code",
   "execution_count": 21,
   "metadata": {},
   "outputs": [],
   "source": [
    "# factor predictions\n",
    "\n",
    "predictions = agent.make_factor_predictions(applicant)"
   ]
  },
  {
   "cell_type": "code",
   "execution_count": 22,
   "metadata": {},
   "outputs": [],
   "source": [
    "# change conversation\n",
    "\n",
    "agent.change_conversation()"
   ]
  },
  {
   "cell_type": "code",
   "execution_count": 23,
   "metadata": {},
   "outputs": [
    {
     "name": "stdout",
     "output_type": "stream",
     "text": [
      "You are assisting with selecting questions for a life insurance applicant.\n",
      "\n",
      "You will receive:\n",
      "- a partially completed questionnaire\n",
      "- a list of remaining risk factors\n",
      "\n",
      "Select a risk factor only if at least one of the following is true:\n",
      "- the factor is impactful for assessing mortality risk\n",
      "- there is a realistic chance the applicant's response may be negative or unhealthy\n",
      "\n",
      "Then, take one of the following actions:\n",
      "1. If at least one factor meets the above conditions:\n",
      "   - reply with the factor name only (exactly as listed)\n",
      "\n",
      "2. If none of the remaining factors meet the conditions:\n",
      "   - reply with 'exit' only\n"
     ]
    }
   ],
   "source": [
    "print(agent.conversation[0]['content'])"
   ]
  },
  {
   "cell_type": "code",
   "execution_count": 24,
   "metadata": {},
   "outputs": [],
   "source": [
    "# dynamic questions\n",
    "\n",
    "max_questions = 15\n",
    "for index in range(max_questions):\n",
    "    content, _ = agent.produce_next_question(applicant, index)\n",
    "    if content:\n",
    "        factor = content['factor']\n",
    "        answer = answers[id][factor]\n",
    "        agent.save_answer(applicant, factor, answer)\n",
    "    else:\n",
    "        break"
   ]
  },
  {
   "cell_type": "code",
   "execution_count": 25,
   "metadata": {},
   "outputs": [],
   "source": [
    "agent.build_record(applicant)"
   ]
  },
  {
   "cell_type": "code",
   "execution_count": null,
   "metadata": {},
   "outputs": [
    {
     "name": "stdout",
     "output_type": "stream",
     "text": [
      "Do you often visit parks, nature trails, or other green spaces that encourage outdoor activities and relaxation?\n",
      "- No\n",
      "\n",
      "Do you regularly feel socially isolated to a degree that affects your well-being?\n",
      "- No\n",
      "\n",
      "Have you been diagnosed with diabetes?\n",
      "- Yes, Type 2\n",
      "\n",
      "Have you been diagnosed with high cholesterol?\n",
      "- Yes\n",
      "\n",
      "Have you been diagnosed with anemia or a blood disorder?\n",
      "- Yes\n",
      "\n",
      "Have you ever been diagnosed with kidney disease or kidney failure?\n",
      "- Yes\n",
      "\n",
      "Are you currently pregnant, or have you been pregnant within the last 12 months?\n",
      "- No\n",
      "\n",
      "Do you have a history of recurrent infections requiring medical treatment?\n",
      "- Yes\n",
      "\n",
      "How would you describe your current weight status?\n",
      "- Healthy weight\n",
      "\n",
      "Have you ever been diagnosed with a mental health condition (e.g., depression, anxiety, bipolar disorder)?\n",
      "- No\n",
      "\n",
      "Do you have any digestive conditions (e.g., GERD, ulcers, Crohn's disease, IBS)?\n",
      "- No\n",
      "\n",
      "How many cigarettes (or equivalent) do you smoke per day?\n",
      "- I do not smoke\n",
      "\n",
      "How much alcohol do you consume per week?\n",
      "- 1-5 drinks\n",
      "\n",
      "Do you have any history of drug abuse or addiction?\n",
      "- No\n",
      "\n",
      "How would you describe your typical diet?\n",
      "- Moderately healthy (occasional fast food, moderate processed foods)\n",
      "\n",
      "Are you exposed to chemicals or dangerous scenarios in your work environment?\n",
      "- Construction\n",
      "\n",
      "How often do you exercise in a week?\n",
      "- Less than once\n",
      "\n",
      "How many hours of sleep do you typically get per night?\n",
      "- 7-8\n",
      "\n",
      "Do you experience high stress due to work, personal life, or other factors?\n",
      "- No\n",
      "\n",
      "Has any biological family member been diagnosed with cancer?\n",
      "- No\n",
      "\n",
      "Has any biological family member been diagnosed with heart disease (e.g., heart attack, coronary artery disease)?\n",
      "- No\n",
      "\n",
      "Has any biological family member had a stroke?\n",
      "- No\n",
      "\n",
      "\n"
     ]
    }
   ],
   "source": [
    "print(agent.record_text(applicant))"
   ]
  },
  {
   "cell_type": "code",
   "execution_count": null,
   "metadata": {},
   "outputs": [
    {
     "name": "stdout",
     "output_type": "stream",
     "text": [
      "{'personal_age': 2,\n",
      " 'personal_gender': 1,\n",
      " 'personal_marital': 0,\n",
      " 'personal_location': 4,\n",
      " 'personal_occupation': 56,\n",
      " 'lifestyle_green_spaces': 1,\n",
      " 'lifestyle_loneliness': 1,\n",
      " 'health_diabetes': 1,\n",
      " 'health_cholesterol': 0,\n",
      " 'health_anemia': 0,\n",
      " 'health_kidney': 0,\n",
      " 'health_pregnancy': 2,\n",
      " 'health_infections': 0,\n",
      " 'health_weight': 1,\n",
      " 'health_mental_illness': 1,\n",
      " 'health_digestive_condition': 1,\n",
      " 'lifestyle_smoking': 4,\n",
      " 'lifestyle_alcohol': 2,\n",
      " 'lifestyle_drugs': 1,\n",
      " 'lifestyle_diet': 1,\n",
      " 'lifestyle_job_hazards': 5,\n",
      " 'lifestyle_exercise': 0,\n",
      " 'lifestyle_sleep': 2,\n",
      " 'lifestyle_stress': 1,\n",
      " 'family_cancer': 5,\n",
      " 'family_heart': 2,\n",
      " 'family_stroke': 2}\n"
     ]
    }
   ],
   "source": [
    "applicant.answers"
   ]
  }
 ],
 "metadata": {
  "kernelspec": {
   "display_name": "Python 3",
   "language": "python",
   "name": "python3"
  },
  "language_info": {
   "codemirror_mode": {
    "name": "ipython",
    "version": 3
   },
   "file_extension": ".py",
   "mimetype": "text/x-python",
   "name": "python",
   "nbconvert_exporter": "python",
   "pygments_lexer": "ipython3",
   "version": "3.10.10"
  }
 },
 "nbformat": 4,
 "nbformat_minor": 2
}
