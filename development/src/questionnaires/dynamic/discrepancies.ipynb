{
 "cells": [
  {
   "cell_type": "markdown",
   "id": "6605403a",
   "metadata": {},
   "source": [
    "# Discrepancies"
   ]
  },
  {
   "cell_type": "code",
   "execution_count": 5,
   "id": "7e73a984",
   "metadata": {},
   "outputs": [],
   "source": [
    "# import libraries\n",
    "\n",
    "import json\n",
    "\n",
    "import numpy as np\n",
    "\n",
    "from sentence_transformers import SentenceTransformer, util"
   ]
  },
  {
   "cell_type": "code",
   "execution_count": 6,
   "id": "ec1a97c9",
   "metadata": {},
   "outputs": [],
   "source": [
    "# load pre-trained model\n",
    "\n",
    "discrepancy_model = SentenceTransformer('all-MiniLM-L6-v2')"
   ]
  },
  {
   "cell_type": "code",
   "execution_count": 7,
   "id": "622f0740",
   "metadata": {},
   "outputs": [],
   "source": [
    "def answer_discrepancy(options : list[str], answer : int, prediction : int) -> bool:\n",
    "    '''\n",
    "    Determines if there is a considerable discrepancy between the answer and the prediction\n",
    "    '''\n",
    "    embeddings = [discrepancy_model.encode(option, convert_to_tensor=True) for option in options]\n",
    "    distances = [1 - util.cos_sim(embeddings[answer], embedding).item() for embedding in embeddings]\n",
    "    threshold_index = (len(options) + 1) // 2\n",
    "    most_distant_indices = set(np.argsort(distances)[-threshold_index:])\n",
    "    return prediction in most_distant_indices"
   ]
  },
  {
   "cell_type": "code",
   "execution_count": 8,
   "id": "47139d77",
   "metadata": {},
   "outputs": [
    {
     "name": "stdout",
     "output_type": "stream",
     "text": [
      "[More than 10 drinks] is not similar to [1-5 drinks]\n"
     ]
    }
   ],
   "source": [
    "# testing discrepancy logic\n",
    "\n",
    "options = [\n",
    "    \"More than 10 drinks\",\n",
    "    \"6-10 drinks\",\n",
    "    \"1-5 drinks\",\n",
    "    \"Occasionally, but less than once a week\",\n",
    "    \"Never\"\n",
    "]\n",
    "answer, prediction = 0, 2\n",
    "result = answer_discrepancy(options, answer, prediction)\n",
    "if result:\n",
    "    print(f\"[{options[answer]}] is not similar to [{options[prediction]}]\")\n",
    "else:\n",
    "    print(f\"[{options[answer]}] is similar to [{options[prediction]}]\")"
   ]
  },
  {
   "cell_type": "code",
   "execution_count": 9,
   "id": "0198d39b",
   "metadata": {},
   "outputs": [],
   "source": [
    "# load real answers\n",
    "\n",
    "data_folder = \"../../../data/applicants\"\n",
    "\n",
    "with open(f\"{data_folder}/answers.json\", 'r') as file:\n",
    "    answers = json.load(file)"
   ]
  },
  {
   "cell_type": "code",
   "execution_count": 41,
   "id": "07f99436",
   "metadata": {},
   "outputs": [],
   "source": [
    "# load records\n",
    "\n",
    "data_folder = '../../../data/questionnaires'\n",
    "\n",
    "with open(f\"{data_folder}/records/dynamic_2.json\", 'r') as file:\n",
    "    records = json.load(file)"
   ]
  },
  {
   "cell_type": "code",
   "execution_count": 42,
   "id": "ec8fc297",
   "metadata": {},
   "outputs": [
    {
     "name": "stdout",
     "output_type": "stream",
     "text": [
      "Total predictions: 722\n",
      "Total discrepancies: 184\n",
      "Discrepancies (%): 25.48%\n",
      "Predictions per questionnaire: 8.49\n",
      "Discrepancies per questionnaire: 2.16\n",
      "Discrepancies per questionnaire (%): 25.48%\n"
     ]
    }
   ],
   "source": [
    "# count answer discrepancies\n",
    "\n",
    "total_predictions = 0\n",
    "total_discrepancies = 0\n",
    "min_confidence = 0.7\n",
    "total_questionnaires = 85\n",
    "\n",
    "for id, record in records.items():\n",
    "    for item in record:\n",
    "        if 'prediction' in item:\n",
    "            answer = answers[id][item['factor']]\n",
    "            item['answer'] = answer\n",
    "            total_predictions += 1\n",
    "            if item['factor'] == 'health_diabetes':\n",
    "                continue\n",
    "            if item['confidence'] >= min_confidence and item['prediction'] != answer:\n",
    "                total_discrepancies += 1\n",
    "                \n",
    "ratio = (total_discrepancies / total_predictions)\n",
    "ppq = (total_predictions / total_questionnaires)\n",
    "dpq = (total_discrepancies / total_questionnaires)\n",
    "discrepancy_rate = (dpq / ppq)\n",
    "\n",
    "print(f\"Total predictions: {total_predictions}\")\n",
    "print(f\"Total discrepancies: {total_discrepancies}\")\n",
    "print(f\"Discrepancies (%): {ratio:.2%}\")\n",
    "print(f\"Predictions per questionnaire: {ppq:.2f}\")\n",
    "print(f\"Discrepancies per questionnaire: {dpq:.2f}\")\n",
    "print(f\"Discrepancies per questionnaire (%): {discrepancy_rate:.2%}\")"
   ]
  }
 ],
 "metadata": {
  "kernelspec": {
   "display_name": "venv",
   "language": "python",
   "name": "python3"
  },
  "language_info": {
   "codemirror_mode": {
    "name": "ipython",
    "version": 3
   },
   "file_extension": ".py",
   "mimetype": "text/x-python",
   "name": "python",
   "nbconvert_exporter": "python",
   "pygments_lexer": "ipython3",
   "version": "3.10.10"
  }
 },
 "nbformat": 4,
 "nbformat_minor": 5
}
