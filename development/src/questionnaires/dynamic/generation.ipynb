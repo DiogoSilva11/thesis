{
 "cells": [
  {
   "cell_type": "markdown",
   "metadata": {},
   "source": [
    "# Generation"
   ]
  },
  {
   "cell_type": "code",
   "execution_count": null,
   "metadata": {},
   "outputs": [],
   "source": [
    "# import libraries\n",
    "\n",
    "import json\n",
    "import math\n",
    "import os\n",
    "import time\n",
    "\n",
    "import pandas as pd\n",
    "\n",
    "from dotenv import load_dotenv\n",
    "from openai import AzureOpenAI\n",
    "\n",
    "from rag import load_embedding_model\n",
    "from applicant import Applicant\n",
    "from agent import Agent"
   ]
  },
  {
   "cell_type": "code",
   "execution_count": 2,
   "metadata": {},
   "outputs": [],
   "source": [
    "# load applicants data\n",
    "\n",
    "data_folder = '../../../data/applicants'\n",
    "\n",
    "with open(f\"{data_folder}/applicants.json\", 'r', encoding='utf-8') as file:\n",
    "    applicants = json.load(file)\n",
    "\n",
    "with open(f\"{data_folder}/answers.json\", 'r') as file:\n",
    "    answers = json.load(file)"
   ]
  },
  {
   "cell_type": "code",
   "execution_count": 3,
   "metadata": {},
   "outputs": [],
   "source": [
    "# regional indicators\n",
    "\n",
    "indicators = [\n",
    "    'mortality',\n",
    "    'morbidity',\n",
    "    'healthcare',\n",
    "    'lifestyle',\n",
    "    'education',\n",
    "    'socioeconomic',\n",
    "    'environment',\n",
    "    'infrastructure',\n",
    "    'security'\n",
    "]"
   ]
  },
  {
   "cell_type": "code",
   "execution_count": 4,
   "metadata": {},
   "outputs": [],
   "source": [
    "def collect_geo_indicators(municipality : str) -> list[str]:\n",
    "    '''\n",
    "    Fetches the main risk indicators from a municipality\n",
    "    '''\n",
    "    demographics = {}\n",
    "    for indicator in indicators:\n",
    "        content = pd.read_csv(f\"../../../data/demographics/processed/{indicator}.csv\", encoding='utf-8')\n",
    "        if municipality in content['municipality'].values:\n",
    "            municipality_data = content[content['municipality'] == municipality].iloc[0]\n",
    "            for column in municipality_data.index[1:]:\n",
    "                value = municipality_data[column]\n",
    "                if value in ['very low', 'low', 'high', 'very high']:\n",
    "                    demographics[column] = value\n",
    "    return demographics"
   ]
  },
  {
   "cell_type": "code",
   "execution_count": 5,
   "metadata": {},
   "outputs": [],
   "source": [
    "# load electronic health records data\n",
    "\n",
    "data_folder = '../../../data/health_records'\n",
    "\n",
    "patients = pd.read_csv(f\"{data_folder}/patients.csv\")\n",
    "\n",
    "allergies = pd.read_csv(f\"{data_folder}/allergies.csv\")\n",
    "careplans = pd.read_csv(f\"{data_folder}/careplans.csv\")\n",
    "conditions = pd.read_csv(f\"{data_folder}/conditions.csv\")\n",
    "devices = pd.read_csv(f\"{data_folder}/devices.csv\")\n",
    "encounters = pd.read_csv(f\"{data_folder}/encounters.csv\")\n",
    "imagings = pd.read_csv(f\"{data_folder}/imagings.csv\")\n",
    "immunizations = pd.read_csv(f\"{data_folder}/immunizations.csv\")\n",
    "medications = pd.read_csv(f\"{data_folder}/medications.csv\")\n",
    "observations = pd.read_csv(f\"{data_folder}/observations.csv\")\n",
    "procedures = pd.read_csv(f\"{data_folder}/procedures.csv\")"
   ]
  },
  {
   "cell_type": "code",
   "execution_count": 6,
   "metadata": {},
   "outputs": [],
   "source": [
    "def recent_observations(observations : list[list]) -> list[list]:\n",
    "    '''\n",
    "    Returns only the latest observations from the health records\n",
    "    '''\n",
    "    unique_data_dict = {}\n",
    "    for entry in observations:\n",
    "        key = entry[0]\n",
    "        unique_data_dict[key] = entry\n",
    "    unique_data = list(unique_data_dict.values())\n",
    "    unique_data.sort(key=lambda x: x[0])\n",
    "    return unique_data"
   ]
  },
  {
   "cell_type": "code",
   "execution_count": 7,
   "metadata": {},
   "outputs": [],
   "source": [
    "def clean_nans(obj : dict | list | float) -> dict | list | str:\n",
    "    '''\n",
    "    Replaces all NaN values with an empty string\n",
    "    '''\n",
    "    if isinstance(obj, dict):\n",
    "        return {k: clean_nans(v) for k, v in obj.items()}\n",
    "    elif isinstance(obj, list):\n",
    "        return [clean_nans(item) for item in obj]\n",
    "    elif isinstance(obj, float) and math.isnan(obj):\n",
    "        return ''\n",
    "    else:\n",
    "        return obj"
   ]
  },
  {
   "cell_type": "code",
   "execution_count": 8,
   "metadata": {},
   "outputs": [],
   "source": [
    "def get_health_records(patient_id : str) -> dict:\n",
    "    '''\n",
    "    Gather all health records for a given patient\n",
    "    '''\n",
    "    health_record = {}\n",
    "    health_record['patient'] = patients[patients['Id'] == patient_id][['Id', 'BIRTHDATE', 'MARITAL', 'RACE', 'ETHNICITY', 'GENDER']]\\\n",
    "        .to_dict(orient='records')[0]\n",
    "    health_record['allergies'] = allergies[allergies['PATIENT'] == patient_id]['DESCRIPTION'].unique().tolist()\n",
    "    health_record['careplans'] = careplans[careplans['PATIENT'] == patient_id]['DESCRIPTION'].unique().tolist()\n",
    "    health_record['conditions'] = conditions[conditions['PATIENT'] == patient_id]['DESCRIPTION'].unique().tolist()\n",
    "    health_record['devices'] = devices[devices['PATIENT'] == patient_id]['DESCRIPTION'].unique().tolist()\n",
    "    health_record['encounters'] = encounters[encounters['PATIENT'] == patient_id]['DESCRIPTION'].unique().tolist()\n",
    "    pat_imagings = imagings[imagings['PATIENT'] == patient_id][['BODYSITE_DESCRIPTION', 'MODALITY_DESCRIPTION']]\n",
    "    health_record['imagings'] = [\n",
    "        f\"{modality}: {bodysite}\" for modality, bodysite in zip(pat_imagings['MODALITY_DESCRIPTION'], pat_imagings['BODYSITE_DESCRIPTION'])\n",
    "    ]\n",
    "    health_record['immunizations'] = immunizations[immunizations['PATIENT'] == patient_id]['DESCRIPTION'].tolist()\n",
    "    health_record['medications'] = medications[medications['PATIENT'] == patient_id]['DESCRIPTION'].tolist()\n",
    "    health_record['procedures'] = procedures[procedures['PATIENT'] == patient_id]['DESCRIPTION'].tolist()\n",
    "    sections = ['allergies', 'careplans', 'conditions', 'devices', 'encounters', 'imagings', 'immunizations', 'medications', 'procedures']\n",
    "    records = []\n",
    "    for section in sections:\n",
    "        records += health_record[section]\n",
    "    health_record['records'] = records\n",
    "    raw_observations = observations[observations['PATIENT'] == patient_id][['DESCRIPTION', 'VALUE', 'UNITS']]\\\n",
    "        .values.tolist()\n",
    "    health_record['observations'] = recent_observations(raw_observations)\n",
    "    return clean_nans(health_record)"
   ]
  },
  {
   "cell_type": "code",
   "execution_count": null,
   "metadata": {},
   "outputs": [],
   "source": [
    "# set up GPT client and model for embeddings\n",
    "\n",
    "load_dotenv()\n",
    "instance = AzureOpenAI(\n",
    "    azure_endpoint=os.getenv(\"ENDPOINT_URL\"),\n",
    "    api_key=os.getenv(\"AZURE_OPENAI_API_KEY\"),\n",
    "    # api_version=\"2024-05-01-preview\",\n",
    "    api_version=\"2025-01-01-preview\"\n",
    ")\n",
    "model = os.getenv(\"DEPLOYMENT_NAME\")\n",
    "embeddings = load_embedding_model()"
   ]
  },
  {
   "cell_type": "code",
   "execution_count": 11,
   "metadata": {},
   "outputs": [],
   "source": [
    "# create agent\n",
    "\n",
    "agent = Agent(id, instance, model, embeddings)"
   ]
  },
  {
   "cell_type": "code",
   "execution_count": 12,
   "metadata": {},
   "outputs": [],
   "source": [
    "# generate indices for user data\n",
    "\n",
    "users = {}\n",
    "\n",
    "for id, applicant in applicants.items():\n",
    "    user = Applicant(id)\n",
    "\n",
    "    user.answers = {key: answers[id][key] for key in list(answers[id])[:5]}\n",
    "    options = agent.questions['personal']['personal_location']['options']\n",
    "    municipality = options[user.answers['personal_location']]\n",
    "\n",
    "    agent.collect_basic_info(user)\n",
    "\n",
    "    agent.collect_geo_indicators(user, applicant['municipality'])\n",
    "    agent.generate_geo_indices(user)\n",
    "\n",
    "    health_records = get_health_records(id) if applicant['access']['health'] else {}\n",
    "    posts = applicant['posts'] if applicant['access']['posts'] else []\n",
    "    steps = applicant['steps'] if applicant['access']['steps'] else None\n",
    "    \n",
    "    agent.collect_health_records(user, health_records, steps)\n",
    "    agent.generate_health_indices(user)\n",
    "\n",
    "    agent.collect_social_media_posts(user, posts)\n",
    "    agent.generate_posts_indices(user)\n",
    "    \n",
    "    users[id] = user"
   ]
  },
  {
   "cell_type": "code",
   "execution_count": 13,
   "metadata": {},
   "outputs": [],
   "source": [
    "# questionnaire sections\n",
    "\n",
    "categories = [\n",
    "    'personal',\n",
    "    'lifestyle',\n",
    "    'family',\n",
    "    'health'\n",
    "]"
   ]
  },
  {
   "cell_type": "code",
   "execution_count": 14,
   "metadata": {},
   "outputs": [],
   "source": [
    "# variable to store statistics\n",
    "\n",
    "stats = {\n",
    "    'questionnaires': {}\n",
    "}\n",
    "\n",
    "for category in categories[1:]:\n",
    "    stats[category] = {}\n",
    "    for factor, content in agent.questions[category].items():\n",
    "        stats[category][factor] = {\n",
    "            'count': 0,\n",
    "            'answers': [0] * len(content['options']),\n",
    "            'avg_time': 0.0\n",
    "        }"
   ]
  },
  {
   "cell_type": "code",
   "execution_count": 15,
   "metadata": {},
   "outputs": [],
   "source": [
    "# variable to store questionnaire records\n",
    "\n",
    "dataset = {}"
   ]
  },
  {
   "cell_type": "code",
   "execution_count": null,
   "metadata": {},
   "outputs": [],
   "source": [
    "# generate dynamic questionnaires filled with answers\n",
    "\n",
    "for id, user in users.items():\n",
    "    questionnaire = []\n",
    "    quest_stats = {\n",
    "        'pred_factors': 0,\n",
    "        'pred_time': 0,\n",
    "        'count': 0,\n",
    "        'avg_time': 0.0,\n",
    "        'errors': 0\n",
    "    }\n",
    "\n",
    "    agent.start_conversation()\n",
    "    agent.identify_factors(user)\n",
    "    quest_stats['pred_factors'] = len(agent.chosen_factors)\n",
    "\n",
    "    start_time = time.time()\n",
    "    predictions = agent.make_factor_predictions(user)\n",
    "    end_time = time.time()\n",
    "    elapsed_time = end_time - start_time\n",
    "    questionnaire += predictions\n",
    "    quest_stats['pred_time'] = elapsed_time\n",
    "\n",
    "    agent.change_conversation()\n",
    "    for index in range(15):\n",
    "        start_time = time.time()\n",
    "        content, errors = agent.produce_next_question(user, index)\n",
    "        end_time = time.time()\n",
    "        elapsed_time = end_time - start_time\n",
    "\n",
    "        if content:\n",
    "            factor = content['factor']\n",
    "            answer = answers[id][factor]\n",
    "            agent.save_answer(user, factor, answer)\n",
    "            content['answer'] = answer\n",
    "            questionnaire.append(content)\n",
    "\n",
    "            category = factor.split('_', 1)[0]\n",
    "            stats[category][factor]['answers'][answer] += 1\n",
    "            avg_time = stats[category][factor]['avg_time']\n",
    "            factor_count = stats[category][factor]['count']\n",
    "            stats[category][factor]['avg_time'] = (avg_time * factor_count + elapsed_time) / (factor_count + 1)\n",
    "            stats[category][factor]['count'] += 1\n",
    "\n",
    "            quest_stats['avg_time'] = (quest_stats['avg_time'] * quest_stats['count'] + elapsed_time) / (quest_stats['count'] + 1)\n",
    "            quest_stats['errors'] += errors\n",
    "            quest_stats['count'] += 1\n",
    "        else:\n",
    "            break\n",
    "            \n",
    "    dataset[id] = questionnaire\n",
    "    stats['questionnaires'][id] = quest_stats\n",
    "    total_quests = len(dataset)\n",
    "    print(f\"{total_quests} questionnaires generated\")"
   ]
  },
  {
   "cell_type": "code",
   "execution_count": 17,
   "metadata": {},
   "outputs": [],
   "source": [
    "# save all dynamic questionnaires and respective statistics\n",
    "\n",
    "data_folder = '../../../data/questionnaires'\n",
    "\n",
    "with open(f\"{data_folder}/records/dynamic_2.json\", 'w', encoding='utf-8') as file:\n",
    "    json.dump(dataset, file, indent=4, ensure_ascii=False)\n",
    "\n",
    "with open(f\"{data_folder}/stats/dynamic_2.json\", 'w', encoding='utf-8') as file:\n",
    "    json.dump(stats, file, indent=4, ensure_ascii=False)"
   ]
  }
 ],
 "metadata": {
  "kernelspec": {
   "display_name": "Python 3",
   "language": "python",
   "name": "python3"
  },
  "language_info": {
   "codemirror_mode": {
    "name": "ipython",
    "version": 3
   },
   "file_extension": ".py",
   "mimetype": "text/x-python",
   "name": "python",
   "nbconvert_exporter": "python",
   "pygments_lexer": "ipython3",
   "version": "3.12.7"
  }
 },
 "nbformat": 4,
 "nbformat_minor": 2
}
