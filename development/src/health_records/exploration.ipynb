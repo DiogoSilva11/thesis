{
 "cells": [
  {
   "cell_type": "markdown",
   "metadata": {},
   "source": [
    "# Exploration"
   ]
  },
  {
   "cell_type": "code",
   "execution_count": 1,
   "metadata": {},
   "outputs": [],
   "source": [
    "# import libraries\n",
    "\n",
    "import pandas as pd"
   ]
  },
  {
   "cell_type": "code",
   "execution_count": 2,
   "metadata": {},
   "outputs": [],
   "source": [
    "# data folder\n",
    "\n",
    "data_folder = '../../data/health_records'"
   ]
  },
  {
   "cell_type": "code",
   "execution_count": 3,
   "metadata": {},
   "outputs": [],
   "source": [
    "# load electronic health records data\n",
    "\n",
    "patients = pd.read_csv(f\"{data_folder}/patients.csv\")\n",
    "\n",
    "allergies = pd.read_csv(f\"{data_folder}/allergies.csv\")\n",
    "careplans = pd.read_csv(f\"{data_folder}/careplans.csv\")\n",
    "conditions = pd.read_csv(f\"{data_folder}/conditions.csv\")\n",
    "devices = pd.read_csv(f\"{data_folder}/devices.csv\")\n",
    "encounters = pd.read_csv(f\"{data_folder}/encounters.csv\")\n",
    "imagings = pd.read_csv(f\"{data_folder}/imagings.csv\")\n",
    "immunizations = pd.read_csv(f\"{data_folder}/immunizations.csv\")\n",
    "medications = pd.read_csv(f\"{data_folder}/medications.csv\")\n",
    "observations = pd.read_csv(f\"{data_folder}/observations.csv\")\n",
    "procedures = pd.read_csv(f\"{data_folder}/procedures.csv\")"
   ]
  },
  {
   "cell_type": "code",
   "execution_count": 4,
   "metadata": {},
   "outputs": [
    {
     "name": "stdout",
     "output_type": "stream",
     "text": [
      "Total amount of patients: 1171\n"
     ]
    }
   ],
   "source": [
    "# total amount of patients\n",
    "\n",
    "print(f\"Total amount of patients: {patients.shape[0]}\")"
   ]
  },
  {
   "cell_type": "code",
   "execution_count": 5,
   "metadata": {},
   "outputs": [
    {
     "data": {
      "text/html": [
       "<div>\n",
       "<style scoped>\n",
       "    .dataframe tbody tr th:only-of-type {\n",
       "        vertical-align: middle;\n",
       "    }\n",
       "\n",
       "    .dataframe tbody tr th {\n",
       "        vertical-align: top;\n",
       "    }\n",
       "\n",
       "    .dataframe thead th {\n",
       "        text-align: right;\n",
       "    }\n",
       "</style>\n",
       "<table border=\"1\" class=\"dataframe\">\n",
       "  <thead>\n",
       "    <tr style=\"text-align: right;\">\n",
       "      <th></th>\n",
       "      <th>Id</th>\n",
       "      <th>BIRTHDATE</th>\n",
       "      <th>MARITAL</th>\n",
       "      <th>RACE</th>\n",
       "      <th>ETHNICITY</th>\n",
       "      <th>GENDER</th>\n",
       "    </tr>\n",
       "  </thead>\n",
       "  <tbody>\n",
       "    <tr>\n",
       "      <th>433</th>\n",
       "      <td>a49b8342-1954-48dc-9322-24bbfe3662c5</td>\n",
       "      <td>1913-05-30</td>\n",
       "      <td>M</td>\n",
       "      <td>black</td>\n",
       "      <td>nonhispanic</td>\n",
       "      <td>M</td>\n",
       "    </tr>\n",
       "    <tr>\n",
       "      <th>412</th>\n",
       "      <td>dea008f8-c3da-4b74-9b12-db1de6e07730</td>\n",
       "      <td>1955-03-04</td>\n",
       "      <td>M</td>\n",
       "      <td>white</td>\n",
       "      <td>nonhispanic</td>\n",
       "      <td>F</td>\n",
       "    </tr>\n",
       "    <tr>\n",
       "      <th>956</th>\n",
       "      <td>8ea2e45c-956e-4d43-b24a-9592b3132abe</td>\n",
       "      <td>1965-04-16</td>\n",
       "      <td>M</td>\n",
       "      <td>white</td>\n",
       "      <td>nonhispanic</td>\n",
       "      <td>F</td>\n",
       "    </tr>\n",
       "    <tr>\n",
       "      <th>262</th>\n",
       "      <td>c7202949-7438-4374-a451-89ad61342068</td>\n",
       "      <td>1965-06-14</td>\n",
       "      <td>M</td>\n",
       "      <td>white</td>\n",
       "      <td>nonhispanic</td>\n",
       "      <td>M</td>\n",
       "    </tr>\n",
       "    <tr>\n",
       "      <th>755</th>\n",
       "      <td>08ea9043-5f84-46ab-9815-81d90024169a</td>\n",
       "      <td>1960-10-27</td>\n",
       "      <td>M</td>\n",
       "      <td>white</td>\n",
       "      <td>nonhispanic</td>\n",
       "      <td>F</td>\n",
       "    </tr>\n",
       "  </tbody>\n",
       "</table>\n",
       "</div>"
      ],
      "text/plain": [
       "                                       Id   BIRTHDATE MARITAL   RACE  \\\n",
       "433  a49b8342-1954-48dc-9322-24bbfe3662c5  1913-05-30       M  black   \n",
       "412  dea008f8-c3da-4b74-9b12-db1de6e07730  1955-03-04       M  white   \n",
       "956  8ea2e45c-956e-4d43-b24a-9592b3132abe  1965-04-16       M  white   \n",
       "262  c7202949-7438-4374-a451-89ad61342068  1965-06-14       M  white   \n",
       "755  08ea9043-5f84-46ab-9815-81d90024169a  1960-10-27       M  white   \n",
       "\n",
       "       ETHNICITY GENDER  \n",
       "433  nonhispanic      M  \n",
       "412  nonhispanic      F  \n",
       "956  nonhispanic      F  \n",
       "262  nonhispanic      M  \n",
       "755  nonhispanic      F  "
      ]
     },
     "execution_count": 5,
     "metadata": {},
     "output_type": "execute_result"
    }
   ],
   "source": [
    "# some patients\n",
    "\n",
    "patients.sample(5)[['Id', 'BIRTHDATE', 'MARITAL', 'RACE', 'ETHNICITY', 'GENDER']]"
   ]
  },
  {
   "cell_type": "code",
   "execution_count": 6,
   "metadata": {},
   "outputs": [
    {
     "name": "stdout",
     "output_type": "stream",
     "text": [
      "['M' nan 'S']\n"
     ]
    }
   ],
   "source": [
    "# unique marital status values\n",
    "\n",
    "print(patients['MARITAL'].unique())"
   ]
  },
  {
   "cell_type": "code",
   "execution_count": 7,
   "metadata": {},
   "outputs": [
    {
     "name": "stdout",
     "output_type": "stream",
     "text": [
      "['M' 'F']\n"
     ]
    }
   ],
   "source": [
    "# unique genders\n",
    "\n",
    "print(patients['GENDER'].unique())"
   ]
  },
  {
   "cell_type": "code",
   "execution_count": 8,
   "metadata": {},
   "outputs": [
    {
     "name": "stdout",
     "output_type": "stream",
     "text": [
      "['white' 'native' 'asian' 'black' 'other']\n",
      "['hispanic' 'nonhispanic']\n"
     ]
    }
   ],
   "source": [
    "# unique patient races and ethnicities\n",
    "\n",
    "print(patients['RACE'].unique())\n",
    "print(patients['ETHNICITY'].unique())"
   ]
  },
  {
   "cell_type": "code",
   "execution_count": null,
   "metadata": {},
   "outputs": [
    {
     "data": {
      "text/plain": [
       "DESCRIPTION\n",
       "Allergy to mould            81\n",
       "Dander (animal) allergy     77\n",
       "Allergy to tree pollen      63\n",
       "House dust mite allergy     61\n",
       "Allergy to grass pollen     60\n",
       "Shellfish allergy           41\n",
       "Allergy to bee venom        33\n",
       "Allergy to nut              31\n",
       "Allergy to fish             30\n",
       "Allergy to wheat            25\n",
       "Allergy to peanuts          25\n",
       "Latex allergy               24\n",
       "Allergy to eggs             20\n",
       "Allergy to dairy product    18\n",
       "Allergy to soya              8\n",
       "Name: count, dtype: int64"
      ]
     },
     "execution_count": 9,
     "metadata": {},
     "output_type": "execute_result"
    }
   ],
   "source": [
    "# all allergies\n",
    "\n",
    "allergies['DESCRIPTION'].value_counts()"
   ]
  },
  {
   "cell_type": "code",
   "execution_count": 10,
   "metadata": {},
   "outputs": [
    {
     "data": {
      "text/plain": [
       "DESCRIPTION\n",
       "Respiratory therapy                                               633\n",
       "Routine antenatal care                                            397\n",
       "Diabetes self management plan                                     339\n",
       "Lifestyle education regarding hypertension                        302\n",
       "Physical therapy procedure                                        230\n",
       "Self-care interventions (procedure)                               189\n",
       "Musculoskeletal care                                              187\n",
       "Wound care                                                        185\n",
       "Fracture care                                                     169\n",
       "Hyperlipidemia clinical management plan                           136\n",
       "Head injury rehabilitation                                        102\n",
       "Urinary tract infection care                                       76\n",
       "Inpatient care plan (record artifact)                              59\n",
       "Asthma self management                                             57\n",
       "Heart failure self management plan                                 57\n",
       "Cancer care plan                                                   49\n",
       "Care plan (record artifact)                                        46\n",
       "Burn care                                                          37\n",
       "Minor surgery care management (procedure)                          31\n",
       "Demential management                                               29\n",
       "Allergic disorder monitoring                                       29\n",
       "Chronic obstructive pulmonary disease clinical management plan     27\n",
       "Skin condition care                                                25\n",
       "Care Plan                                                          24\n",
       "Overactivity/inattention behavior management                       20\n",
       "Major surgery care management                                      15\n",
       "Terminal care                                                      15\n",
       "Psychiatry care plan                                                7\n",
       "Mental health care plan                                             5\n",
       "Dialysis care plan (record artifact)                                3\n",
       "Major depressive disorder clinical management plan                  2\n",
       "Spinal cord injury rehabilitation                                   1\n",
       "Name: count, dtype: int64"
      ]
     },
     "execution_count": 10,
     "metadata": {},
     "output_type": "execute_result"
    }
   ],
   "source": [
    "# all careplans\n",
    "\n",
    "careplans['DESCRIPTION'].value_counts()"
   ]
  },
  {
   "cell_type": "code",
   "execution_count": 27,
   "metadata": {},
   "outputs": [
    {
     "data": {
      "text/plain": [
       "DESCRIPTION\n",
       "Viral sinusitis (disorder)                             1248\n",
       "Acute viral pharyngitis (disorder)                      653\n",
       "Acute bronchitis (disorder)                             563\n",
       "Normal pregnancy                                        516\n",
       "Body mass index 30+ - obesity (finding)                 449\n",
       "Prediabetes                                             317\n",
       "Hypertension                                            302\n",
       "Anemia (disorder)                                       300\n",
       "Chronic sinusitis (disorder)                            236\n",
       "Miscarriage in first trimester                          221\n",
       "Otitis media                                            196\n",
       "Streptococcal sore throat (disorder)                    157\n",
       "Hyperlipidemia                                          136\n",
       "Sprain of ankle                                         134\n",
       "Polyp of colon                                           79\n",
       "Concussion with no loss of consciousness                 77\n",
       "Diabetes                                                 76\n",
       "Hypertriglyceridemia (disorder)                          74\n",
       "Metabolic syndrome X (disorder)                          74\n",
       "Acute bacterial sinusitis (disorder)                     69\n",
       "Sinusitis (disorder)                                     66\n",
       "Osteoarthritis of knee                                   65\n",
       "Coronary Heart Disease                                   61\n",
       "Impacted molars                                          57\n",
       "Osteoporosis (disorder)                                  57\n",
       "Chronic congestive heart failure (disorder)              57\n",
       "Sprain of wrist                                          56\n",
       "Chronic pain                                             55\n",
       "Whiplash injury to neck                                  55\n",
       "Chronic intractable migraine without aura                53\n",
       "Drug overdose                                            52\n",
       "History of appendectomy                                  50\n",
       "Appendicitis                                             50\n",
       "Fetus with unknown complication                          49\n",
       "Stroke                                                   48\n",
       "History of cardiac arrest (situation)                    47\n",
       "Escherichia coli urinary tract infection                 47\n",
       "Cardiac Arrest                                           47\n",
       "Hyperglycemia (disorder)                                 44\n",
       "Fracture of forearm                                      44\n",
       "Laceration of forearm                                    43\n",
       "Tubal pregnancy                                          41\n",
       "Fracture subluxation of wrist                            41\n",
       "History of single seizure (situation)                    40\n",
       "Seizure disorder                                         40\n",
       "Diabetic renal disease (disorder)                        37\n",
       "Facial laceration                                        36\n",
       "Laceration of hand                                       36\n",
       "Laceration of thigh                                      35\n",
       "Atrial Fibrillation                                      34\n",
       "Laceration of foot                                       33\n",
       "Chronic kidney disease stage 1 (disorder)                32\n",
       "Perennial allergic rhinitis with seasonal variation      32\n",
       "Neoplasm of prostate                                     30\n",
       "Fracture of ankle                                        30\n",
       "Cystitis                                                 30\n",
       "Childhood asthma                                         29\n",
       "Perennial allergic rhinitis                              28\n",
       "Carcinoma in situ of prostate (disorder)                 27\n",
       "Fracture of clavicle                                     27\n",
       "Name: count, dtype: int64"
      ]
     },
     "execution_count": 27,
     "metadata": {},
     "output_type": "execute_result"
    }
   ],
   "source": [
    "# most common conditions\n",
    "\n",
    "conditions['DESCRIPTION'].value_counts().head(60)"
   ]
  },
  {
   "cell_type": "code",
   "execution_count": 29,
   "metadata": {},
   "outputs": [
    {
     "data": {
      "text/plain": [
       "DESCRIPTION\n",
       "Implantable defibrillator  device (physical object)    47\n",
       "Coronary artery stent (physical object)                21\n",
       "Implantable cardiac pacemaker (physical object)        10\n",
       "Name: count, dtype: int64"
      ]
     },
     "execution_count": 29,
     "metadata": {},
     "output_type": "execute_result"
    }
   ],
   "source": [
    "# all devices\n",
    "\n",
    "devices['DESCRIPTION'].value_counts()"
   ]
  },
  {
   "cell_type": "code",
   "execution_count": 31,
   "metadata": {},
   "outputs": [
    {
     "data": {
      "text/plain": [
       "DESCRIPTION\n",
       "General examination of patient (procedure)                                14946\n",
       "Encounter for problem (procedure)                                          5196\n",
       "Encounter for check up (procedure)                                         4515\n",
       "Well child visit (procedure)                                               4144\n",
       "Encounter for symptom                                                      3929\n",
       "Prenatal visit                                                             2676\n",
       "Urgent care clinic (procedure)                                             2373\n",
       "Encounter for problem                                                      2291\n",
       "Follow-up encounter                                                        2282\n",
       "Patient encounter procedure                                                1624\n",
       "Outpatient procedure                                                       1543\n",
       "Consultation for treatment                                                 1309\n",
       "Encounter for 'check-up'                                                    893\n",
       "Emergency room admission (procedure)                                        873\n",
       "Prenatal initial visit                                                      801\n",
       "Encounter Inpatient                                                         423\n",
       "Emergency Encounter                                                         356\n",
       "Telemedicine consultation with patient                                      315\n",
       "Emergency Room Admission                                                    309\n",
       "Obstetric emergency hospital admission                                      299\n",
       "Postnatal visit                                                             298\n",
       "Asthma follow-up                                                            284\n",
       "Postoperative follow-up visit (procedure)                                   254\n",
       "Hypertension follow-up encounter                                            223\n",
       "Drug rehabilitation and detoxification                                      140\n",
       "Screening surveillance (regime/therapy)                                     135\n",
       "Gynecology service (qualifier value)                                        119\n",
       "Patient-initiated encounter                                                  94\n",
       "Encounter for Problem                                                        94\n",
       "Domiciliary or rest home patient evaluation and management                   83\n",
       "Inpatient stay (finding)                                                     59\n",
       "Emergency hospital admission for asthma                                      55\n",
       "Office Visit                                                                 55\n",
       "Stroke                                                                       51\n",
       "Cardiac Arrest                                                               48\n",
       "Allergic disorder initial assessment                                         42\n",
       "Admission to surgical department                                             41\n",
       "Non-urgent orthopedic admission                                              26\n",
       "Follow-up visit (procedure)                                                  26\n",
       "Allergic disorder follow-up assessment                                       24\n",
       "Myocardial Infarction                                                        22\n",
       "Encounter for symptom (procedure)                                            17\n",
       "Death Certification                                                          16\n",
       "Discussion about treatment (procedure)                                       11\n",
       "Periodic reevaluation and management of healthy individual (procedure)        9\n",
       "Hospital admission                                                            9\n",
       "Initial Psychiatric Interview with mental status evaluation                   6\n",
       "posttraumatic stress disorder                                                 4\n",
       "Admission to thoracic surgery department                                      3\n",
       "Telephone encounter (procedure)                                               1\n",
       "Name: count, dtype: int64"
      ]
     },
     "execution_count": 31,
     "metadata": {},
     "output_type": "execute_result"
    }
   ],
   "source": [
    "# all encounters\n",
    "\n",
    "encounters['DESCRIPTION'].value_counts()"
   ]
  },
  {
   "cell_type": "code",
   "execution_count": 32,
   "metadata": {},
   "outputs": [
    {
     "data": {
      "text/plain": [
       "BODYSITE_DESCRIPTION                          MODALITY_DESCRIPTION\n",
       "Thoracic structure (body structure)           Computed Tomography     328\n",
       "thoracic                                      Ultrasound              113\n",
       "Thoracic structure (body structure)           Computed Radiography     76\n",
       "Thoracic structure                            Digital Radiography      61\n",
       "Thoracic                                      Ultrasound               59\n",
       "Arm                                           Digital Radiography      48\n",
       "Wrist                                         Digital Radiography      47\n",
       "Ankle                                         Digital Radiography      32\n",
       "Clavicle                                      Digital Radiography      31\n",
       "Knee                                          Digital Radiography      29\n",
       "Chest                                         Digital Radiography      19\n",
       "Pelvis                                        Digital Radiography      11\n",
       "Structure of right upper quadrant of abdomen  Ultrasound                1\n",
       "Name: count, dtype: int64"
      ]
     },
     "execution_count": 32,
     "metadata": {},
     "output_type": "execute_result"
    }
   ],
   "source": [
    "# all imagings\n",
    "\n",
    "imagings[['BODYSITE_DESCRIPTION', 'MODALITY_DESCRIPTION']].value_counts()"
   ]
  },
  {
   "cell_type": "code",
   "execution_count": 34,
   "metadata": {},
   "outputs": [
    {
     "data": {
      "text/plain": [
       "DESCRIPTION\n",
       "Influenza  seasonal  injectable  preservative free    9385\n",
       "Td (adult) preservative free                           830\n",
       "Pneumococcal conjugate PCV 13                          661\n",
       "DTaP                                                   572\n",
       "IPV                                                    481\n",
       "meningococcal MCV4P                                    432\n",
       "HPV  quadrivalent                                      424\n",
       "Hib (PRP-OMP)                                          354\n",
       "Hep B  adolescent or pediatric                         352\n",
       "Hep A  adult                                           281\n",
       "zoster                                                 280\n",
       "Hep B  adult                                           263\n",
       "MMR                                                    233\n",
       "Hep A  ped/adol  2 dose                                230\n",
       "varicella                                              228\n",
       "rotavirus  monovalent                                  225\n",
       "Tdap                                                   142\n",
       "pneumococcal polysaccharide vaccine  23 valent         105\n",
       "Name: count, dtype: int64"
      ]
     },
     "execution_count": 34,
     "metadata": {},
     "output_type": "execute_result"
    }
   ],
   "source": [
    "# all immunizations\n",
    "\n",
    "immunizations['DESCRIPTION'].value_counts()"
   ]
  },
  {
   "cell_type": "code",
   "execution_count": 38,
   "metadata": {},
   "outputs": [
    {
     "data": {
      "text/plain": [
       "DESCRIPTION\n",
       "Hydrochlorothiazide 25 MG Oral Tablet                                                                                3954\n",
       "insulin human  isophane 70 UNT/ML / Regular Insulin  Human 30 UNT/ML Injectable Suspension [Humulin]                 3880\n",
       "1 ML Epoetin Alfa 4000 UNT/ML Injection [Epogen]                                                                     3388\n",
       "Atenolol 50 MG / Chlorthalidone 25 MG Oral Tablet                                                                    3347\n",
       "24 HR Metformin hydrochloride 500 MG Extended Release Oral Tablet                                                    2895\n",
       "amLODIPine 5 MG / Hydrochlorothiazide 12.5 MG / Olmesartan medoxomil 20 MG Oral Tablet                               2867\n",
       "Simvastatin 10 MG Oral Tablet                                                                                        2273\n",
       "NDA020503 200 ACTUAT Albuterol 0.09 MG/ACTUAT Metered Dose Inhaler                                                   2072\n",
       "120 ACTUAT Fluticasone propionate 0.044 MG/ACTUAT Metered Dose Inhaler                                               2072\n",
       "Hydrochlorothiazide 12.5 MG                                                                                          1598\n",
       "Digoxin 0.125 MG Oral Tablet                                                                                         1278\n",
       "Warfarin Sodium 5 MG Oral Tablet                                                                                     1278\n",
       "Nitroglycerin 0.4 MG/ACTUAT Mucosal Spray                                                                            1264\n",
       "Verapamil Hydrochloride 40 MG                                                                                        1259\n",
       "Simvastatin 20 MG Oral Tablet                                                                                         948\n",
       "Amlodipine 5 MG Oral Tablet                                                                                           921\n",
       "Clopidogrel 75 MG Oral Tablet                                                                                         904\n",
       "Acetaminophen 325 MG Oral Tablet                                                                                      644\n",
       "Cisplatin 50 MG Injection                                                                                             572\n",
       "PACLitaxel 100 MG Injection                                                                                           541\n",
       "60 ACTUAT Fluticasone propionate 0.25 MG/ACTUAT / salmeterol 0.05 MG/ACTUAT Dry Powder Inhaler                        505\n",
       "Naproxen sodium 220 MG Oral Tablet                                                                                    276\n",
       "Amoxicillin 250 MG / Clavulanate 125 MG Oral Tablet                                                                   271\n",
       "Insulin Lispro 100 UNT/ML Injectable Solution [Humalog]                                                               232\n",
       "Ibuprofen 200 MG Oral Tablet                                                                                          188\n",
       "Acetaminophen 160 MG Chewable Tablet                                                                                  148\n",
       "Acetaminophen 21.7 MG/ML / Dextromethorphan Hydrobromide 1 MG/ML / doxylamine succinate 0.417 MG/ML Oral Solution     126\n",
       "Ibuprofen 100 MG Oral Tablet                                                                                          123\n",
       "Trinessa 28 Day Pack                                                                                                  113\n",
       "NDA020800 0.3 ML Epinephrine 1 MG/ML Auto-Injector                                                                    107\n",
       "Yaz 28 Day Pack                                                                                                       107\n",
       "Jolivette 28 Day Pack                                                                                                 106\n",
       "Amoxicillin 250 MG Oral Capsule                                                                                       104\n",
       "Seasonique 91 Day Pack                                                                                                 97\n",
       "Levora 0.15/30 28 Day Pack                                                                                             93\n",
       "1 ML medroxyprogesterone acetate 150 MG/ML Injection                                                                   90\n",
       "Acetaminophen 300 MG / HYDROcodone Bitartrate 5 MG Oral Tablet                                                         88\n",
       "Natazia 28 Day Pack                                                                                                    84\n",
       "Camila 28 Day Pack                                                                                                     83\n",
       "Abuse-Deterrent 12 HR Oxycodone Hydrochloride 15 MG Extended Release Oral Tablet                                       83\n",
       "Etonogestrel 68 MG Drug Implant                                                                                        83\n",
       "Acetaminophen 325 MG / Oxycodone Hydrochloride 5 MG Oral Tablet                                                        80\n",
       "Errin 28 Day Pack                                                                                                      79\n",
       "Penicillin V Potassium 250 MG Oral Tablet                                                                              76\n",
       "Nitrofurantoin 5 MG/ML Oral Suspension                                                                                 76\n",
       "Phenazopyridine hydrochloride 100 MG Oral Tablet                                                                       76\n",
       "Mirena 52 MG Intrauterine System                                                                                       73\n",
       "Penicillin V Potassium 500 MG Oral Tablet                                                                              70\n",
       "24 HR metoprolol succinate 100 MG Extended Release Oral Tablet [Toprol]                                                57\n",
       "Furosemide 40 MG Oral Tablet                                                                                           57\n",
       "Vitamin B 12 5 MG/ML Injectable Solution                                                                               53\n",
       "NuvaRing 0.12/0.015 MG per 24HR 21 Day Vaginal Ring                                                                    52\n",
       "10 ML Furosemide 10 MG/ML Injection                                                                                    51\n",
       "Alendronic acid 10 MG Oral Tablet                                                                                      44\n",
       "ferrous sulfate 325 MG Oral Tablet                                                                                     43\n",
       "Meperidine Hydrochloride 50 MG Oral Tablet                                                                             41\n",
       "1 ML medroxyPROGESTERone acetate 150 MG/ML Injection                                                                   38\n",
       "Cefuroxime 250 MG Oral Tablet                                                                                          37\n",
       "Acetaminophen 325 MG / oxyCODONE Hydrochloride 5 MG Oral Tablet                                                        37\n",
       "Fexofenadine hydrochloride 30 MG Oral Tablet                                                                           33\n",
       "Name: count, dtype: int64"
      ]
     },
     "execution_count": 38,
     "metadata": {},
     "output_type": "execute_result"
    }
   ],
   "source": [
    "# most common medications\n",
    "\n",
    "medications['DESCRIPTION'].value_counts().head(60)"
   ]
  },
  {
   "cell_type": "code",
   "execution_count": 41,
   "metadata": {},
   "outputs": [
    {
     "data": {
      "text/plain": [
       "DESCRIPTION\n",
       "Pain severity - 0-10 verbal numeric rating [Score] - Reported                16820\n",
       "Diastolic Blood Pressure                                                     12963\n",
       "Systolic Blood Pressure                                                      12963\n",
       "Body Height                                                                  12552\n",
       "Tobacco smoking status NHIS                                                  12552\n",
       "Body Weight                                                                  12552\n",
       "Heart rate                                                                   12552\n",
       "Respiratory rate                                                             12552\n",
       "Body Mass Index                                                              11451\n",
       "QOLS                                                                         10121\n",
       "DALY                                                                         10121\n",
       "QALY                                                                         10121\n",
       "Chloride                                                                      6515\n",
       "Sodium                                                                        6515\n",
       "Calcium                                                                       6515\n",
       "Creatinine                                                                    6515\n",
       "Urea Nitrogen                                                                 6515\n",
       "Glucose                                                                       6515\n",
       "Carbon Dioxide                                                                6515\n",
       "Potassium                                                                     6515\n",
       "Total Cholesterol                                                             5264\n",
       "Triglycerides                                                                 5264\n",
       "Low Density Lipoprotein Cholesterol                                           5264\n",
       "High Density Lipoprotein Cholesterol                                          5264\n",
       "Hemoglobin A1c/Hemoglobin.total in Blood                                      4519\n",
       "Weight difference [Mass difference] --pre dialysis - post dialysis            3388\n",
       "Body mass index (BMI) [Percentile] Per age and gender                         2900\n",
       "Hemoglobin [Mass/volume] in Blood                                             2645\n",
       "Platelet distribution width [Entitic volume] in Blood by Automated count      2639\n",
       "MCV [Entitic volume] by Automated count                                       2639\n",
       "MCH [Entitic mass] by Automated count                                         2639\n",
       "Platelet mean volume [Entitic volume] in Blood by Automated count             2639\n",
       "MCHC [Mass/volume] by Automated count                                         2639\n",
       "Platelets [#/volume] in Blood by Automated count                              2639\n",
       "Leukocytes [#/volume] in Blood by Automated count                             2558\n",
       "Erythrocytes [#/volume] in Blood by Automated count                           2558\n",
       "Erythrocyte distribution width [Entitic volume] by Automated count            2558\n",
       "Hematocrit [Volume Fraction] of Blood by Automated count                      2558\n",
       "Microalbumin Creatinine Ratio                                                 2265\n",
       "Estimated Glomerular Filtration Rate                                          2265\n",
       "Glomerular filtration rate/1.73 sq M.predicted                                1945\n",
       "Aspartate aminotransferase [Enzymatic activity/volume] in Serum or Plasma     1927\n",
       "Protein [Mass/volume] in Serum or Plasma                                      1927\n",
       "Globulin [Mass/volume] in Serum by calculation                                1927\n",
       "Albumin [Mass/volume] in Serum or Plasma                                      1927\n",
       "Alkaline phosphatase [Enzymatic activity/volume] in Serum or Plasma           1927\n",
       "Alanine aminotransferase [Enzymatic activity/volume] in Serum or Plasma       1927\n",
       "Bilirubin.total [Mass/volume] in Serum or Plasma                              1927\n",
       "Head Occipital-frontal circumference                                          1615\n",
       "Weight-for-length Per age and sex                                             1615\n",
       "Body temperature                                                               799\n",
       "Glucose [Mass/volume] in Urine by Test strip                                   716\n",
       "Color of Urine                                                                 716\n",
       "Clarity of Urine                                                               716\n",
       "Glucose [Presence] in Urine by Test strip                                      716\n",
       "Bilirubin.total [Mass/volume] in Urine by Test strip                           716\n",
       "Bilirubin.total [Presence] in Urine by Test strip                              716\n",
       "Ketones [Mass/volume] in Urine by Test strip                                   716\n",
       "Odor of Urine                                                                  716\n",
       "Ketones [Presence] in Urine by Test strip                                      716\n",
       "Name: count, dtype: int64"
      ]
     },
     "execution_count": 41,
     "metadata": {},
     "output_type": "execute_result"
    }
   ],
   "source": [
    "# most common observations\n",
    "\n",
    "observations['DESCRIPTION'].value_counts().head(60)"
   ]
  },
  {
   "cell_type": "code",
   "execution_count": 42,
   "metadata": {},
   "outputs": [
    {
     "name": "stdout",
     "output_type": "stream",
     "text": [
      "['Never smoker' 'Former smoker' 'Current every day smoker']\n"
     ]
    }
   ],
   "source": [
    "# possibilities regarding smoking habits\n",
    "\n",
    "print(observations[observations['VALUE'].str.contains('smoke')]['VALUE'].unique())"
   ]
  },
  {
   "cell_type": "code",
   "execution_count": 46,
   "metadata": {},
   "outputs": [
    {
     "data": {
      "text/plain": [
       "DESCRIPTION\n",
       "Medication Reconciliation (procedure)                                        5632\n",
       "Renal dialysis (procedure)                                                   3389\n",
       "Auscultation of the fetal heart                                              2705\n",
       "Evaluation of uterine fundal height                                          2705\n",
       "Subcutaneous immunotherapy                                                   1497\n",
       "Intramuscular injection                                                      1324\n",
       "Electrical cardioversion                                                      981\n",
       "Combined chemotherapy and radiation therapy (procedure)                       655\n",
       "Hemoglobin / Hematocrit / Platelet count                                      602\n",
       "Colonoscopy                                                                   527\n",
       "Standard pregnancy test                                                       474\n",
       "Ultrasound scan for fetal viability                                           474\n",
       "Depression screening                                                          468\n",
       "Hearing examination (procedure)                                               328\n",
       "High resolution computed tomography of chest without contrast (procedure)     328\n",
       "Throat culture (procedure)                                                    316\n",
       "Skin test for tuberculosis                                                    307\n",
       "Rubella screening                                                             307\n",
       "Measurement of Varicella-zoster virus antibody                                307\n",
       "Urine protein test                                                            307\n",
       "Physical examination of mother                                                307\n",
       "Screening for chromosomal aneuploidy in prenatal amniotic fluid               307\n",
       "Cytopathology procedure  preparation of smear  genital source                 307\n",
       "Urine screening test for diabetes                                             307\n",
       "Hepatitis C antibody test                                                     307\n",
       "Urine culture                                                                 307\n",
       "Gonorrhea infection test                                                      307\n",
       "Chlamydia antigen test                                                        307\n",
       "Human immunodeficiency virus antigen test                                     307\n",
       "Syphilis infection test                                                       307\n",
       "Hepatitis B Surface Antigen Measurement                                       307\n",
       "Blood typing  RH typing                                                       307\n",
       "Alpha-fetoprotein test                                                        298\n",
       "Fetal anatomy study                                                           298\n",
       "Vaccination for diphtheria  pertussis  and tetanus                            295\n",
       "Urine screening for glucose                                                   295\n",
       "Physical examination following birth                                          291\n",
       "Measurement of respiratory function (procedure)                               288\n",
       "Spirometry (procedure)                                                        285\n",
       "Streptococcus pneumoniae group B antigen test                                 271\n",
       "Cognitive and behavioral therapy                                              266\n",
       "Catheter ablation of tissue of heart                                          266\n",
       "Childbirth                                                                    233\n",
       "Suture open wound                                                             183\n",
       "Insertion of intrauterine contraceptive device                                147\n",
       "Digital examination of rectum                                                 135\n",
       "Mammography (procedure)                                                       135\n",
       "Bone immobilization                                                           131\n",
       "Plain chest X-ray (procedure)                                                 130\n",
       "Cytopathology procedure  preparation of smear  genital source (procedure)     119\n",
       "Manual pelvic examination (procedure)                                         119\n",
       "RhD passive immunization                                                      115\n",
       "Transthoracic three dimensional ultrasonography of heart (procedure)          113\n",
       "Insertion of subcutaneous contraceptive                                       113\n",
       "Sputum examination (procedure)                                                113\n",
       "Pulmonary rehabilitation (regime/therapy)                                     111\n",
       "Bone density scan (procedure)                                                 110\n",
       "Teleradiotherapy procedure (procedure)                                        102\n",
       "Physical examination                                                           89\n",
       "Pregnancy termination care                                                     88\n",
       "Name: count, dtype: int64"
      ]
     },
     "execution_count": 46,
     "metadata": {},
     "output_type": "execute_result"
    }
   ],
   "source": [
    "# most common procedures\n",
    "\n",
    "procedures['DESCRIPTION'].value_counts().head(60)"
   ]
  }
 ],
 "metadata": {
  "kernelspec": {
   "display_name": "venv",
   "language": "python",
   "name": "python3"
  },
  "language_info": {
   "codemirror_mode": {
    "name": "ipython",
    "version": 3
   },
   "file_extension": ".py",
   "mimetype": "text/x-python",
   "name": "python",
   "nbconvert_exporter": "python",
   "pygments_lexer": "ipython3",
   "version": "3.12.7"
  }
 },
 "nbformat": 4,
 "nbformat_minor": 2
}
