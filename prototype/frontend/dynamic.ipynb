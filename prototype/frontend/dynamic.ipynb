{
 "cells": [
  {
   "cell_type": "markdown",
   "metadata": {},
   "source": [
    "# Dynamic"
   ]
  },
  {
   "cell_type": "code",
   "execution_count": 209,
   "metadata": {},
   "outputs": [],
   "source": [
    "# import libraries\n",
    "\n",
    "import os\n",
    "import requests\n",
    "import textwrap\n",
    "\n",
    "from dotenv import load_dotenv"
   ]
  },
  {
   "cell_type": "code",
   "execution_count": 210,
   "metadata": {},
   "outputs": [],
   "source": [
    "# base URL\n",
    "\n",
    "load_dotenv()\n",
    "ip = os.getenv(\"IP\")\n",
    "port = os.getenv(\"PORT\")\n",
    "\n",
    "base_url = f\"http://{ip}:{port}\""
   ]
  },
  {
   "cell_type": "code",
   "execution_count": 212,
   "metadata": {},
   "outputs": [],
   "source": [
    "def user_answer(item : dict) -> int:\n",
    "    '''\n",
    "    Receives the user answer as an input\n",
    "    '''\n",
    "    question = item['question']\n",
    "    options = item['options']\n",
    "    print(question)\n",
    "    for index, option in enumerate(options):\n",
    "        print(f\"{index}. {option}\")\n",
    "    if 'prediction' in item:\n",
    "        print(f\"Prediction: {item['prediction']}\")\n",
    "        explanation = textwrap.fill(item['explanation'], width=130)\n",
    "        print(f\"Explanation: {explanation}\")\n",
    "    print(flush=True)\n",
    "    answer = input()\n",
    "    answer = int(answer)\n",
    "    return answer"
   ]
  },
  {
   "cell_type": "code",
   "execution_count": null,
   "metadata": {},
   "outputs": [],
   "source": [
    "# create applicant\n",
    "\n",
    "body = {\n",
    "    'id': '1'\n",
    "}\n",
    "response = requests.post(f\"{base_url}/applicant\", json=body)\n",
    "id = response.json()['id']\n",
    "\n",
    "id"
   ]
  },
  {
   "cell_type": "code",
   "execution_count": 214,
   "metadata": {},
   "outputs": [],
   "source": [
    "# personal questionnaire\n",
    "\n",
    "body = {\n",
    "    'id': id,\n",
    "    'category': 'personal'\n",
    "}\n",
    "response = requests.post(f\"{base_url}/questionnaire\", json=body)\n",
    "personal = response.json()['questionnaire']\n",
    "\n",
    "for item in personal:\n",
    "    answer = user_answer(item)\n",
    "    body = {\n",
    "        'id': id,\n",
    "        'factor': item['factor'],\n",
    "        'answer': answer\n",
    "    }\n",
    "    response = requests.post(f\"{base_url}/answer\", json=body)"
   ]
  },
  {
   "cell_type": "code",
   "execution_count": null,
   "metadata": {},
   "outputs": [],
   "source": [
    "# collect demographics\n",
    "\n",
    "body = {\n",
    "    'id': id\n",
    "}\n",
    "response = requests.post(f\"{base_url}/demographics\", json=body)\n",
    "geo_indicators = response.json()['geo_indicators']\n",
    "\n",
    "geo_indicators"
   ]
  },
  {
   "cell_type": "code",
   "execution_count": null,
   "metadata": {},
   "outputs": [],
   "source": [
    "# collect health and steps data\n",
    "\n",
    "body = {\n",
    "    'id': id\n",
    "}\n",
    "response = requests.post(f\"{base_url}/health\", json=body)\n",
    "content = response.json()\n",
    "health_records = content['health_records'] if 'health_records' in content else ''\n",
    "\n",
    "health_records"
   ]
  },
  {
   "cell_type": "code",
   "execution_count": null,
   "metadata": {},
   "outputs": [],
   "source": [
    "# collect posts\n",
    "\n",
    "body = {\n",
    "    'id': id\n",
    "}\n",
    "response = requests.post(f\"{base_url}/posts\", json=body)\n",
    "content = response.json()\n",
    "posts = content['posts'] if 'posts' in content else ''\n",
    "\n",
    "posts"
   ]
  },
  {
   "cell_type": "code",
   "execution_count": null,
   "metadata": {},
   "outputs": [],
   "source": [
    "# risk spotting\n",
    "\n",
    "body = {\n",
    "    'id': id\n",
    "}\n",
    "response = requests.post(f\"{base_url}/spotting\", json=body)\n",
    "message = response.json()['message']\n",
    "\n",
    "message"
   ]
  },
  {
   "cell_type": "code",
   "execution_count": null,
   "metadata": {},
   "outputs": [],
   "source": [
    "# identify factors\n",
    "\n",
    "body = {\n",
    "    'id': id\n",
    "}\n",
    "response = requests.post(f\"{base_url}/factors\", json=body)\n",
    "factors = response.json()['factors']\n",
    "\n",
    "factors"
   ]
  },
  {
   "cell_type": "code",
   "execution_count": 220,
   "metadata": {},
   "outputs": [],
   "source": [
    "# make predictions\n",
    "\n",
    "body = {\n",
    "    'id': id\n",
    "}\n",
    "response = requests.post(f\"{base_url}/predictions\", json=body)\n",
    "predictions = response.json()['predictions']"
   ]
  },
  {
   "cell_type": "code",
   "execution_count": 221,
   "metadata": {},
   "outputs": [],
   "source": [
    "# revise predictions\n",
    "\n",
    "for item in predictions:\n",
    "    answer = user_answer(item)\n",
    "    body = {\n",
    "        'id': id,\n",
    "        'factor': item['factor'],\n",
    "        'answer': answer\n",
    "    }\n",
    "    response = requests.post(f\"{base_url}/answer\", json=body)"
   ]
  },
  {
   "cell_type": "code",
   "execution_count": null,
   "metadata": {},
   "outputs": [],
   "source": [
    "# dynamic questioning\n",
    "\n",
    "body = {\n",
    "    'id': id\n",
    "}\n",
    "response = requests.post(f\"{base_url}/questioning\", json=body)\n",
    "message = response.json()['message']\n",
    "\n",
    "message"
   ]
  },
  {
   "cell_type": "code",
   "execution_count": 223,
   "metadata": {},
   "outputs": [],
   "source": [
    "# dynamic questionnaire\n",
    "\n",
    "max_questions = 15\n",
    "for index in range(max_questions):\n",
    "    body = {\n",
    "        'id': id,\n",
    "        'question_index': index\n",
    "    }\n",
    "    response = requests.post(f\"{base_url}/question\", json=body)\n",
    "    item = response.json()['question']\n",
    "    if item:\n",
    "        answer = user_answer(item)\n",
    "        body = {\n",
    "            'id': id,\n",
    "            'factor': item['factor'],\n",
    "            'answer': answer\n",
    "        }\n",
    "        response = requests.post(f\"{base_url}/answer\", json=body)\n",
    "    else:\n",
    "        break"
   ]
  },
  {
   "cell_type": "code",
   "execution_count": null,
   "metadata": {},
   "outputs": [],
   "source": [
    "# build record\n",
    "\n",
    "body = {\n",
    "    'id': id\n",
    "}\n",
    "response = requests.post(f\"{base_url}/record\", json=body)\n",
    "record = response.json()['record']\n",
    "\n",
    "record"
   ]
  },
  {
   "cell_type": "code",
   "execution_count": null,
   "metadata": {},
   "outputs": [],
   "source": [
    "# risk scoring\n",
    "\n",
    "body = {\n",
    "    'id': id\n",
    "}\n",
    "response = requests.post(f\"{base_url}/risk\", json=body)\n",
    "risk = response.json()['risk']\n",
    "\n",
    "risk"
   ]
  },
  {
   "cell_type": "code",
   "execution_count": null,
   "metadata": {},
   "outputs": [],
   "source": [
    "# answer discrepancies\n",
    "\n",
    "body = {\n",
    "    'id': id\n",
    "}\n",
    "response = requests.post(f\"{base_url}/discrepancies\", json=body)\n",
    "discrepancies = response.json()['discrepancies']\n",
    "\n",
    "discrepancies"
   ]
  },
  {
   "cell_type": "code",
   "execution_count": null,
   "metadata": {},
   "outputs": [],
   "source": [
    "# save application\n",
    "\n",
    "body = {\n",
    "    'id': id\n",
    "}\n",
    "response = requests.post(f\"{base_url}/application\", json=body)\n",
    "message = response.json()['message']\n",
    "\n",
    "message"
   ]
  }
 ],
 "metadata": {
  "kernelspec": {
   "display_name": "Python 3",
   "language": "python",
   "name": "python3"
  },
  "language_info": {
   "codemirror_mode": {
    "name": "ipython",
    "version": 3
   },
   "file_extension": ".py",
   "mimetype": "text/x-python",
   "name": "python",
   "nbconvert_exporter": "python",
   "pygments_lexer": "ipython3",
   "version": "3.12.7"
  }
 },
 "nbformat": 4,
 "nbformat_minor": 2
}
