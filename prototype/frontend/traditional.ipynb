{
 "cells": [
  {
   "cell_type": "markdown",
   "metadata": {},
   "source": [
    "# Traditional"
   ]
  },
  {
   "cell_type": "code",
   "execution_count": 123,
   "metadata": {},
   "outputs": [],
   "source": [
    "# import libraries\n",
    "\n",
    "import os\n",
    "import requests\n",
    "\n",
    "from dotenv import load_dotenv"
   ]
  },
  {
   "cell_type": "code",
   "execution_count": 124,
   "metadata": {},
   "outputs": [],
   "source": [
    "# base URL\n",
    "\n",
    "load_dotenv()\n",
    "ip = os.getenv(\"IP\")\n",
    "port = os.getenv(\"PORT\")\n",
    "\n",
    "base_url = f\"http://{ip}:{port}\""
   ]
  },
  {
   "cell_type": "code",
   "execution_count": 126,
   "metadata": {},
   "outputs": [],
   "source": [
    "def user_answer(item : dict) -> int:\n",
    "    '''\n",
    "    Receives the user answer as an input\n",
    "    '''\n",
    "    question = item['question']\n",
    "    options = item['options']\n",
    "    print(question)\n",
    "    for index, option in enumerate(options):\n",
    "        print(f\"{index}. {option}\")\n",
    "    print(flush=True)\n",
    "    answer = input()\n",
    "    answer = int(answer)\n",
    "    return answer"
   ]
  },
  {
   "cell_type": "code",
   "execution_count": null,
   "metadata": {},
   "outputs": [],
   "source": [
    "# create applicant\n",
    "\n",
    "body = {\n",
    "    'id': '1'\n",
    "}\n",
    "response = requests.post(f\"{base_url}/applicant\", json=body)\n",
    "id = response.json()['id']\n",
    "\n",
    "id"
   ]
  },
  {
   "cell_type": "code",
   "execution_count": 128,
   "metadata": {},
   "outputs": [],
   "source": [
    "# personal questionnaire\n",
    "\n",
    "body = {\n",
    "    'id': id,\n",
    "    'category': 'personal'\n",
    "}\n",
    "response = requests.post(f\"{base_url}/questionnaire\", json=body)\n",
    "personal = response.json()['questionnaire']\n",
    "\n",
    "for item in personal:\n",
    "    answer = user_answer(item)\n",
    "    body = {\n",
    "        'id': id,\n",
    "        'factor': item['factor'],\n",
    "        'answer': answer\n",
    "    }\n",
    "    response = requests.post(f\"{base_url}/answer\", json=body)"
   ]
  },
  {
   "cell_type": "code",
   "execution_count": 129,
   "metadata": {},
   "outputs": [],
   "source": [
    "# lifestyle questionnaire\n",
    "\n",
    "body = {\n",
    "    'id': id,\n",
    "    'category': 'lifestyle'\n",
    "}\n",
    "response = requests.post(f\"{base_url}/questionnaire\", json=body)\n",
    "lifestyle = response.json()['questionnaire']\n",
    "\n",
    "for item in lifestyle:\n",
    "    answer = user_answer(item)\n",
    "    body = {\n",
    "        'id': id,\n",
    "        'factor': item['factor'],\n",
    "        'answer': answer\n",
    "    }\n",
    "    response = requests.post(f\"{base_url}/answer\", json=body)"
   ]
  },
  {
   "cell_type": "code",
   "execution_count": 130,
   "metadata": {},
   "outputs": [],
   "source": [
    "# family questionnaire\n",
    "\n",
    "body = {\n",
    "    'id': id,\n",
    "    'category': 'family'\n",
    "}\n",
    "response = requests.post(f\"{base_url}/questionnaire\", json=body)\n",
    "family = response.json()['questionnaire']\n",
    "\n",
    "for item in family:\n",
    "    answer = user_answer(item)\n",
    "    body = {\n",
    "        'id': id,\n",
    "        'factor': item['factor'],\n",
    "        'answer': answer\n",
    "    }\n",
    "    response = requests.post(f\"{base_url}/answer\", json=body)"
   ]
  },
  {
   "cell_type": "code",
   "execution_count": 131,
   "metadata": {},
   "outputs": [],
   "source": [
    "# health questionnaire\n",
    "\n",
    "body = {\n",
    "    'id': id,\n",
    "    'category': 'health'\n",
    "}\n",
    "response = requests.post(f\"{base_url}/questionnaire\", json=body)\n",
    "health = response.json()['questionnaire']\n",
    "\n",
    "for item in health:\n",
    "    answer = user_answer(item)\n",
    "    body = {\n",
    "        'id': id,\n",
    "        'factor': item['factor'],\n",
    "        'answer': answer\n",
    "    }\n",
    "    response = requests.post(f\"{base_url}/answer\", json=body)"
   ]
  },
  {
   "cell_type": "code",
   "execution_count": null,
   "metadata": {},
   "outputs": [],
   "source": [
    "# build record\n",
    "\n",
    "body = {\n",
    "    'id': id\n",
    "}\n",
    "response = requests.post(f\"{base_url}/record\", json=body)\n",
    "record = response.json()['record']\n",
    "\n",
    "record"
   ]
  },
  {
   "cell_type": "code",
   "execution_count": null,
   "metadata": {},
   "outputs": [],
   "source": [
    "# risk scoring\n",
    "\n",
    "body = {\n",
    "    'id': id\n",
    "}\n",
    "response = requests.post(f\"{base_url}/risk\", json=body)\n",
    "risk = response.json()['risk']\n",
    "\n",
    "risk"
   ]
  },
  {
   "cell_type": "code",
   "execution_count": null,
   "metadata": {},
   "outputs": [],
   "source": [
    "# save application\n",
    "\n",
    "body = {\n",
    "    'id': id\n",
    "}\n",
    "response = requests.post(f\"{base_url}/application\", json=body)\n",
    "message = response.json()['message']\n",
    "\n",
    "message"
   ]
  }
 ],
 "metadata": {
  "kernelspec": {
   "display_name": "Python 3",
   "language": "python",
   "name": "python3"
  },
  "language_info": {
   "codemirror_mode": {
    "name": "ipython",
    "version": 3
   },
   "file_extension": ".py",
   "mimetype": "text/x-python",
   "name": "python",
   "nbconvert_exporter": "python",
   "pygments_lexer": "ipython3",
   "version": "3.12.7"
  }
 },
 "nbformat": 4,
 "nbformat_minor": 2
}
