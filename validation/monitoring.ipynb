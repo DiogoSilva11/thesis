{
 "cells": [
  {
   "cell_type": "markdown",
   "metadata": {},
   "source": [
    "# Monitoring"
   ]
  },
  {
   "cell_type": "code",
   "execution_count": 7,
   "metadata": {},
   "outputs": [],
   "source": [
    "# import libraries\n",
    "\n",
    "import os\n",
    "import json\n",
    "import requests\n",
    "\n",
    "from dotenv import load_dotenv"
   ]
  },
  {
   "cell_type": "code",
   "execution_count": 2,
   "metadata": {},
   "outputs": [],
   "source": [
    "# base URL\n",
    "\n",
    "load_dotenv()\n",
    "ip = os.getenv(\"IP\")\n",
    "port = os.getenv(\"PORT\")\n",
    "\n",
    "base_url = f\"http://{ip}:{port}\""
   ]
  },
  {
   "cell_type": "code",
   "execution_count": null,
   "metadata": {},
   "outputs": [],
   "source": [
    "# service status\n",
    "\n",
    "response = requests.get(base_url)\n",
    "status = response.json()['status']\n",
    "\n",
    "status"
   ]
  },
  {
   "cell_type": "markdown",
   "metadata": {},
   "source": [
    "### Uploads"
   ]
  },
  {
   "cell_type": "code",
   "execution_count": 32,
   "metadata": {},
   "outputs": [],
   "source": [
    "# applicant id\n",
    "\n",
    "id = '1'"
   ]
  },
  {
   "cell_type": "code",
   "execution_count": 33,
   "metadata": {},
   "outputs": [],
   "source": [
    "# health records and daily steps\n",
    "\n",
    "with open('data/health_records.json', 'r') as file:\n",
    "    health_records = json.load(file)\n",
    "\n",
    "with open('data/daily_steps.json', 'r') as file:\n",
    "    daily_steps = json.load(file)"
   ]
  },
  {
   "cell_type": "code",
   "execution_count": null,
   "metadata": {},
   "outputs": [],
   "source": [
    "# upload health and steps data\n",
    "\n",
    "body = {\n",
    "    'id': id,\n",
    "    'health_records': health_records,\n",
    "    'daily_steps': daily_steps['steps']\n",
    "}\n",
    "response = requests.post(f\"{base_url}/health/upload\", json=body)\n",
    "message = response.json()['message']\n",
    "\n",
    "message"
   ]
  },
  {
   "cell_type": "code",
   "execution_count": null,
   "metadata": {},
   "outputs": [],
   "source": [
    "# posts\n",
    "\n",
    "paths = [\n",
    "    'data/posts/0.png',\n",
    "    'data/posts/1.png',\n",
    "    'data/posts/2.png'\n",
    "]\n",
    "\n",
    "files = []\n",
    "for path in paths:\n",
    "    files.append(('posts', (path, open(path, 'rb'), 'image/png')))"
   ]
  },
  {
   "cell_type": "code",
   "execution_count": null,
   "metadata": {},
   "outputs": [],
   "source": [
    "# upload posts\n",
    "\n",
    "body = {'id': id}\n",
    "response = requests.post(f\"{base_url}/posts/upload\", data=body, files=files)\n",
    "message = response.json()['message']\n",
    "\n",
    "message"
   ]
  },
  {
   "cell_type": "markdown",
   "metadata": {},
   "source": [
    "### Application"
   ]
  },
  {
   "cell_type": "code",
   "execution_count": null,
   "metadata": {},
   "outputs": [],
   "source": [
    "# applicant info\n",
    "\n",
    "id = '1'\n",
    "response = requests.get(f\"{base_url}/applicant/{id}\")\n",
    "applicant = response.json()['applicant']\n",
    "\n",
    "applicant"
   ]
  },
  {
   "cell_type": "code",
   "execution_count": null,
   "metadata": {},
   "outputs": [],
   "source": [
    "# all applications\n",
    "\n",
    "response = requests.get(f\"{base_url}/applications\")\n",
    "applications = response.json()['applications']\n",
    "\n",
    "len(applications)"
   ]
  },
  {
   "cell_type": "code",
   "execution_count": null,
   "metadata": {},
   "outputs": [],
   "source": [
    "# application\n",
    "\n",
    "id = '1'\n",
    "response = requests.get(f\"{base_url}/application/{int(id)}\")\n",
    "application = response.json()['application']\n",
    "\n",
    "application"
   ]
  },
  {
   "cell_type": "code",
   "execution_count": null,
   "metadata": {},
   "outputs": [],
   "source": [
    "# store application\n",
    "\n",
    "with open(f'data/{id}.json', 'w', encoding='utf-8') as file:\n",
    "    json.dump(application, file, indent=4, ensure_ascii=False)"
   ]
  }
 ],
 "metadata": {
  "kernelspec": {
   "display_name": "Python 3",
   "language": "python",
   "name": "python3"
  },
  "language_info": {
   "codemirror_mode": {
    "name": "ipython",
    "version": 3
   },
   "file_extension": ".py",
   "mimetype": "text/x-python",
   "name": "python",
   "nbconvert_exporter": "python",
   "pygments_lexer": "ipython3",
   "version": "3.12.7"
  }
 },
 "nbformat": 4,
 "nbformat_minor": 2
}
